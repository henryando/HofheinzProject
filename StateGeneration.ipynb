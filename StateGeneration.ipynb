{
 "cells": [
  {
   "cell_type": "markdown",
   "metadata": {},
   "source": [
    "# Arbitrary State Generation\n",
    "\n",
    "## Step 1: Computing pulse sequences\n",
    "\n",
    "In this first section, we develop tools for computing the pulse sequences necessary for generating arbitrary resonator states. We follow the algorithm laid out in the paper, starting with the desired final state and then repetitively emptying the top Fock state into the qubit, and proceeding down the ladder to the ground state. \n",
    "\n",
    "First, let's import modules."
   ]
  },
  {
   "cell_type": "code",
   "execution_count": 1,
   "metadata": {},
   "outputs": [],
   "source": [
    "import numpy as np\n",
    "import matplotlib.pyplot as plt\n",
    "from qutip import *"
   ]
  },
  {
   "cell_type": "markdown",
   "metadata": {},
   "source": [
    "Let's define some constants. "
   ]
  },
  {
   "cell_type": "code",
   "execution_count": 2,
   "metadata": {},
   "outputs": [],
   "source": [
    "t1q = 650  # qubit T1 in ns\n",
    "t2q = 150  # qubit T2 in ns\n",
    "t1r = 3500  # resonator T1 in ns\n",
    "w_r = 2 * np.pi * 6.570  # resonator frequency in GHz\n",
    "omega = 2 * np.pi * 19e-3  # qubit/cavity interaction strength in GHz\n",
    "delta_on = 0  # qubit/cavity detuning when on resonance \n",
    "delta_off = - 2 * np.pi * 463e-3  # qubit/cavity detuning when off resonance in GHz"
   ]
  },
  {
   "cell_type": "markdown",
   "metadata": {},
   "source": [
    "There are three types of pulses: swap operations, qubit drive operations, and phase rotation operations. Let's write some functions to calculate the length of time each step needs to be applied for. Let's start with the swap operation. \n",
    "\n",
    "When the qubit is tuned on resonance with the cavity, we observe Rabi oscillations between the state $| e, n-1\\rangle$ and the state $|g, n\\rangle$ at a frequency of $\\sqrt{n}\\Omega$. Thus, the appropriate length of time to leave the system tuned for is $\\pi / \\sqrt{n} \\Omega$. So we have "
   ]
  },
  {
   "cell_type": "code",
   "execution_count": 3,
   "metadata": {},
   "outputs": [],
   "source": [
    "def swap_time(n):\n",
    "    return np.pi / (omega * np.sqrt(n))"
   ]
  },
  {
   "cell_type": "markdown",
   "metadata": {},
   "source": [
    "Next, we should figure out the qubit drive operations, as they "
   ]
  },
  {
   "cell_type": "markdown",
   "metadata": {},
   "source": [
    "Now let's think about the phase rotation operations. When the qubit is detuned from the resonator, the $|e, n\\rangle$ states accumulate phase relative to the $|g, n-1\\rangle$ states at a rate $\\Delta_{off}$. We want these two states to be exactly in phase "
   ]
  }
 ],
 "metadata": {
  "kernelspec": {
   "display_name": "Python 3",
   "language": "python",
   "name": "python3"
  },
  "language_info": {
   "codemirror_mode": {
    "name": "ipython",
    "version": 3
   },
   "file_extension": ".py",
   "mimetype": "text/x-python",
   "name": "python",
   "nbconvert_exporter": "python",
   "pygments_lexer": "ipython3",
   "version": "3.8.2"
  }
 },
 "nbformat": 4,
 "nbformat_minor": 4
}
