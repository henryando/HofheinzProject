{
 "cells": [
  {
   "cell_type": "markdown",
   "metadata": {},
   "source": [
    "# Arbitrary State Generation\n",
    "\n",
    "## Step 1: Computing pulse sequences\n",
    "\n",
    "In this first section, we develop tools for computing the pulse sequences necessary for generating arbitrary resonator states. We follow the algorithm laid out in the paper, starting with the desired final state and then repetitively emptying the top Fock state into the qubit, and proceeding down the ladder to the ground state. \n",
    "\n",
    "First, let's import modules."
   ]
  },
  {
   "cell_type": "code",
   "execution_count": 1,
   "metadata": {},
   "outputs": [],
   "source": [
    "import numpy as np\n",
    "import matplotlib.pyplot as plt\n",
    "from qutip import *"
   ]
  },
  {
   "cell_type": "markdown",
   "metadata": {},
   "source": [
    "Let's define some constants. "
   ]
  },
  {
   "cell_type": "code",
   "execution_count": 2,
   "metadata": {},
   "outputs": [
    {
     "name": "stdout",
     "output_type": "stream",
     "text": [
      "25\n"
     ]
    }
   ],
   "source": [
    "t1q = 650  # qubit T1 in ns\n",
    "t2q = 150  # qubit T2 in ns\n",
    "t1r = 3500  # resonator T1 in ns\n",
    "w_r = 2 * np.pi * 6.570  # resonator frequency in GHz\n",
    "omega = 2 * np.pi * 19e-3  # qubit/cavity interaction strength in GHz\n",
    "delta_on = 0  # qubit/cavity detuning when on resonance \n",
    "delta_off = - 2 * np.pi * 463e-3  # qubit/cavity detuning when off resonance in GHz\n",
    "pulse_width = 8  # qubit drive pulse FWHM in ns\n",
    "pulse_sig = pulse_width / (2 * np.sqrt(2 * np.log(2)))\n",
    "pulse_time = 25  # the length of time to allow (should be more than twice pulse_width to get most of the Gaussian)\n",
    "print(pulse_time)\n",
    "N = 10  # the number of Fock states to include\n",
    "atol = 1e-3"
   ]
  },
  {
   "cell_type": "markdown",
   "metadata": {},
   "source": [
    "And let's also define the operators we will need."
   ]
  },
  {
   "cell_type": "code",
   "execution_count": 3,
   "metadata": {},
   "outputs": [],
   "source": [
    "sm = tensor(sigmam(), identity(N))\n",
    "a = tensor(identity(2), destroy(N))"
   ]
  },
  {
   "cell_type": "markdown",
   "metadata": {},
   "source": [
    "There are three types of pulses: swap operations, qubit drive operations, and phase rotation operations. Let's write some functions to calculate the length of time each step needs to be applied for. Let's start with the swap operation. In the rest of this section, we imagine we are descending the ladder, as this is the order in which the operations are computed. In each step, we focus only on the two highest-energy components of whatever the complete state is.\n",
    "\n",
    "The swap operation needs to take a superposition $c_1 | e, n-1 \\rangle + c_2 |g, n\\rangle$ and transfer it to pure $|e, n-1\\rangle$. When the qubit is tuned on resonance, we have Rabi oscillations between these two states at a frequency $\\sqrt{n}\\Omega$. We note that the previous rotation operation has left these two states in phase with one another, so we can assume that the coefficients $c_1$ and $c_2$ are real. Thus the on-resonance pulse duration is simply \n",
    "\\begin{equation}\n",
    "\\tau_n = \\frac{2}{\\sqrt{n}\\Omega}\\tan^{-1} (c_2 / c_1 ).\n",
    "\\end{equation}\n",
    "Let's make a function for this."
   ]
  },
  {
   "cell_type": "code",
   "execution_count": 4,
   "metadata": {},
   "outputs": [],
   "source": [
    "def swap_time(n, c1, c2):\n",
    "    \"\"\"Computes the on-resonance time necessary to swap c1 |e, n-1> + c2 |g, n> down to pure |e, n-1>. \n",
    "    Returns time in units of omega.\"\"\"\n",
    "    if c1 == 0:\n",
    "        return np.pi / np.sqrt(n)\n",
    "    else:\n",
    "        return 2 * np.arctan(np.abs(c2 / c1)) / np.sqrt(n)"
   ]
  },
  {
   "cell_type": "markdown",
   "metadata": {},
   "source": [
    "Next, let's deal with the phase rotation operations. In the swap operation, we assumed that the two swap states were in phase with each other; in general, this will not be true following a qubit drive operation. Thus we need to engineer this to be true, which is what the phase rotation is for. The phase rotation is accomplished by leaving the qubit detuned from the resonator at the detuning freuency $\\Delta_\\text{off}$, which causes the $|e, n-1\\rangle$ states to accumulate phase at a rate of $\\Delta_\\text{off}$ relative to the $|g, n+1\\rangle$ states. Thus, given the coefficients $c_1$ and $c_2$ for $|e, n-1\\rangle$ and $|g, n+1\\rangle$ (which can now be complex), we know that the time of the phase pulse is \n",
    "\\begin{equation}\n",
    "    t_n = \\Delta_\\text{off}\\text{Arg} (c_1 / c_2) + 3 \\pi / 2.\n",
    "\\end{equation}\n",
    "Here is a function for this:"
   ]
  },
  {
   "cell_type": "code",
   "execution_count": 5,
   "metadata": {},
   "outputs": [],
   "source": [
    "def rotation_time(c1, c2, lb=0):\n",
    "    \"\"\"Computes the detuning time necessary to get c1 |e, n-1> in phase with c2 |g, n>.\n",
    "    Includes an optional argument for a lower bound lb, in case you want to specify that this time must\n",
    "    be longer than the qubit drive operation.\n",
    "    \"\"\"\n",
    "    t = np.angle(c1) - np.angle(c2) + 3 * np.pi / 2\n",
    "    while (- t / delta_off) < lb:\n",
    "        t = t + 2 * np.pi  # recall that delta_off is negative, hence the sign\n",
    "    return t"
   ]
  },
  {
   "cell_type": "markdown",
   "metadata": {},
   "source": [
    "Finally, we turn to the qubit drive operations, which are the most complicated. The qubit drive operations take place when the system is detuned and the two highest energy levels are $|e, n \\rangle $ and $|g, n\\rangle$. They need to take an arbitrary Bloch sphere vector $c_1 |e, n \\rangle + c_2 |g, n\\rangle$ and map it down to pure $|g, n\\rangle$. The Hamiltonian in this situation is approximately\n",
    "\\begin{equation}\n",
    "H = \\Delta_\\text{off} \\sigma_+ \\sigma_- + \\frac{\\Omega_q(t)}{2} \\sigma_+ + \\frac{\\Omega_q^* (t)}{2} \\sigma_- =\n",
    "\\Delta_\\text{off} \\sigma_+ \\sigma_- + \\text{Re} (\\Omega_q (t)) \\sigma^x + \\text{Im}(\\Omega_q(t)) \\sigma^y,\n",
    "\\end{equation}\n",
    "where the qubit/resonator interaction has been neglected because the detuning term is more important, and the cavity drive is turned off. We flip into the interaction picture with respect to the time-independent term of this Hamiltonian, and find that the ground state is unchanged while the excited state precesses at frequency $\\Delta_\\text{off}$. This corresponds to the Bloch sphere precessing around the $z$ axis. Thus whatever pulse we apply should be rotating by a phase factor\n",
    "\\begin{equation}\n",
    "p(t) = e^{i\\Delta_\\text{off}t}\n",
    "\\end{equation}\n",
    "The supplementary materials specify that the pulse is modulated by a Gaussian envelope with a FWHM of 8 ns. This corresponds to an envelope given by\n",
    "\\begin{equation}\n",
    "g(t) = \\frac{1}{\\sqrt{2\\pi w^2}}e^{(t-t_c)^2/2 w^2}, \n",
    "\\end{equation}\n",
    "where $w= \\text{FWHM} / 2\\sqrt{2\\ln 2}$. \n",
    "The functional form of the pulse is thus \n",
    "\\begin{equation}\n",
    "\\Omega_q (t) = (a + ib) g(t)  p(t),\n",
    "\\end{equation}\n",
    "where $a + ib  = q_n $ is a prefactor which controls what axis we rotate the state about, and by how much.\n",
    "The real part of the pulse will cause precession around the $x$ axis of the Bloch sphere and the imaginary part of the pulse will cause precession around the $y$ axis, so by picking these parameters correctly we can cause the state to rotate from an arbitrary location on the Bloch sphere down to pure $|g, n\\rangle$. Specifically, we want to pick these parameters such that \n",
    "\\begin{equation}\n",
    "\\text{Arg} (a + i b) = \\frac{\\pi}{2} + \\text{Arg} (c_2 / c_1)\n",
    "\\end{equation}\n",
    "and such that \n",
    "\\begin{equation}\n",
    "|a + ib| t_\\text{max} = 2\\sin^{-1} |c_2 / c_1 |.\n",
    "\\end{equation}\n"
   ]
  },
  {
   "cell_type": "code",
   "execution_count": 6,
   "metadata": {},
   "outputs": [],
   "source": [
    "def qubit_drive_phase(c1, c2):\n",
    "    \"\"\"Return the appropriate phase factor for the qubit drive pulse given a state c1 |e, n> + c2 |g, n>.\"\"\"\n",
    "    return np.angle(c2 / c1)\n",
    "\n",
    "\n",
    "def qubit_drive_amp(c1, c2):\n",
    "    \"\"\"Return the appropriate amplitude for the qubit drive pulse given a state c1 |e, n> + c2 |g, n> and \n",
    "    assuming the drive time is pulse_time.\n",
    "    \"\"\"\n",
    "    if c2 == 0:\n",
    "        return np.pi\n",
    "    else:\n",
    "        return 2 * np.arctan(np.abs(c1 / c2))\n",
    "    \n",
    "def qubit_drive(c1, c2):\n",
    "    \"\"\"Returns the product of amplitude and phase.\"\"\"\n",
    "    return qubit_drive_amp(c1, c2) * np.exp(1j * qubit_drive_phase(c1, c2))"
   ]
  },
  {
   "cell_type": "markdown",
   "metadata": {},
   "source": [
    "Now we are to the point of working out the actual pulse sequences for the time dependent Hamiltonian. \n",
    "\n",
    "Let's start by defining each component of the Hamiltonian."
   ]
  },
  {
   "cell_type": "code",
   "execution_count": 7,
   "metadata": {},
   "outputs": [],
   "source": [
    "Hq = delta_off * sm.dag() * sm  # the qubit only part of the Hamiltonian\n",
    "Hc = omega * (sm * a.dag() + sm.dag() * a) / 2  # the qubit/resonator coupling term\n",
    "Hd = sm.dag() / 2  # half of the qubit drive term. the other half will be included later - we need to conjugate "
   ]
  },
  {
   "cell_type": "markdown",
   "metadata": {},
   "source": [
    "Next, we need to start from the end state, and work our way backwards, calculating what happens to the state after the backwards evolution from the Hamiltonian at each step. Let's pick as an example $|1 \\rangle + i |3\\rangle$, as in the text."
   ]
  },
  {
   "cell_type": "code",
   "execution_count": 8,
   "metadata": {},
   "outputs": [
    {
     "name": "stdout",
     "output_type": "stream",
     "text": [
      "  (11, 0)\t(1+0j)\n",
      "  (13, 0)\t1j\n"
     ]
    }
   ],
   "source": [
    "psif = tensor(basis(2, 1), basis(N, 1) + 1j * basis(N, 3))\n",
    "print(psif.data)"
   ]
  },
  {
   "cell_type": "markdown",
   "metadata": {},
   "source": [
    "To avoid messing up indexing later, here's a function to access the coefficients of different states:"
   ]
  },
  {
   "cell_type": "code",
   "execution_count": 9,
   "metadata": {},
   "outputs": [],
   "source": [
    "def get_ind(psi, q, r):\n",
    "    \"\"\"Access the |q, r> coefficient of psi (where q=0 is the excited state).\"\"\"\n",
    "    return psi.full()[N * q + r, 0]"
   ]
  },
  {
   "cell_type": "markdown",
   "metadata": {},
   "source": [
    "Also worth doing linspace stuff in one spot:"
   ]
  },
  {
   "cell_type": "code",
   "execution_count": 10,
   "metadata": {},
   "outputs": [],
   "source": [
    "dt = 0.01\n",
    "def time_axis(t, dt=0.01):\n",
    "    \"\"\"Returns a time axis for times 0 to t.\"\"\"\n",
    "    return np.linspace(0, t, int(t / dt))"
   ]
  },
  {
   "cell_type": "markdown",
   "metadata": {},
   "source": [
    "Let's try implementing the first swap operation on this state:"
   ]
  },
  {
   "cell_type": "code",
   "execution_count": 11,
   "metadata": {
    "scrolled": true
   },
   "outputs": [
    {
     "name": "stdout",
     "output_type": "stream",
     "text": [
      "0j\n",
      "1j\n",
      "1.8137993642342178\n",
      "  (0, 0)\t-0.5570576998628572j\n",
      "  (2, 0)\t(0.7069258522339451+0j)\n",
      "  (11, 0)\t(0.4358239994156881+0j)\n"
     ]
    }
   ],
   "source": [
    "psi = psif\n",
    "n = 3\n",
    "c1 = get_ind(psi, 0, n - 1)  # |e, n-1> \n",
    "c2 = get_ind(psi, 1, n)  # |g, n>\n",
    "s = swap_time(n, c1, c2)\n",
    "print(c1)\n",
    "print(c2)\n",
    "print(s)  # check we get the right value for the swap time; this should print 1.81\n",
    "times = time_axis(s / omega)\n",
    "result = sesolve(Hc, psi, times, [])\n",
    "psi = result.states[-1]\n",
    "psi.tidyup(atol=atol)\n",
    "print(psi.data)\n",
    "psi0 = psi"
   ]
  },
  {
   "cell_type": "markdown",
   "metadata": {},
   "source": [
    "Note: think about using Qobj.tidyup\n",
    "\n",
    "This looks good though. Let's think about the qubit drive operation now. "
   ]
  },
  {
   "cell_type": "code",
   "execution_count": 12,
   "metadata": {
    "scrolled": false
   },
   "outputs": [
    {
     "name": "stdout",
     "output_type": "stream",
     "text": [
      "Drive amp: 3.14\n",
      "Drive phase: 0.00\n",
      "Integral:\n",
      "(3.1396061070349606+1.9890705293783286e-18j)\n",
      "Psi data:\n",
      "  (1, 0)\t(-0.19762994753271027+0.3885038939910618j)\n",
      "  (10, 0)\t(-0.5570402130897257+0j)\n",
      "  (12, 0)\t-0.7069036609025872j\n"
     ]
    }
   ],
   "source": [
    "psi = psi0\n",
    "n = 2\n",
    "c1 = get_ind(psi, 0, n)  # |e, n> \n",
    "c2 = get_ind(psi, 1, n)  # |g, n>\n",
    "driveamp = qubit_drive_amp(c1, c2)\n",
    "drivephase = qubit_drive_phase(c1, c2)\n",
    "print(\"Drive amp: %.2f\" % driveamp)\n",
    "print(\"Drive phase: %.2f\" % drivephase)\n",
    "\n",
    "times = time_axis(pulse_time)\n",
    "def omegaq(t, args):\n",
    "    return driveamp * np.exp(-1j * drivephase - 1j * t * delta_off \n",
    "                  - (1/2) * ((t - pulse_time / 2)**2) / (pulse_sig ** 2)) / np.sqrt(2 * np.pi * (pulse_sig**2))\n",
    "def omegaqdag(t, args):\n",
    "    return np.conj(omegaq(t, args))\n",
    "\n",
    "print(\"Integral:\")\n",
    "print(np.sum(omegaq(times, []) * np.exp(1j * times * delta_off)) * dt)\n",
    "\n",
    "result = sesolve([Hq, [Hd.dag(), omegaqdag], [Hd, omegaq]], psi, times, [])\n",
    "psi = result.states[-1]\n",
    "psi.tidyup(atol=atol)\n",
    "print(\"Psi data:\")\n",
    "print(psi.data)\n",
    "psi0 = psi"
   ]
  },
  {
   "cell_type": "markdown",
   "metadata": {},
   "source": [
    "Just for reference, this is what the pulse looks like:"
   ]
  },
  {
   "cell_type": "code",
   "execution_count": 13,
   "metadata": {},
   "outputs": [
    {
     "data": {
      "image/png": "[encoded data removed]",
      "text/plain": [
       "<Figure size 432x288 with 1 Axes>"
      ]
     },
     "metadata": {
      "needs_background": "light"
     },
     "output_type": "display_data"
    }
   ],
   "source": [
    "plt.figure()\n",
    "plt.plot(times, np.real(omegaq(times, [])))\n",
    "plt.xlabel(\"Time (ns)\")\n",
    "plt.ylabel(\"Real part of Omega_q(T)\")\n",
    "plt.show()"
   ]
  },
  {
   "cell_type": "markdown",
   "metadata": {},
   "source": [
    "Great, now we ned to get the $|e, 1\\rangle$ component in phase with the $|g, 2 \\rangle$ component."
   ]
  },
  {
   "cell_type": "code",
   "execution_count": 14,
   "metadata": {},
   "outputs": [
    {
     "name": "stdout",
     "output_type": "stream",
     "text": [
      "8.324560939361326\n",
      "Psi data:\n",
      "  (1, 0)\t(-0.2567019946142338-0.3521792195936265j)\n",
      "  (10, 0)\t(-0.5570633531268229+0j)\n",
      "  (12, 0)\t-0.7069330264251336j\n"
     ]
    }
   ],
   "source": [
    "psi = psi0\n",
    "n = 2\n",
    "c1 = get_ind(psi, 0, n - 1)  # |e, n-1> \n",
    "c2 = get_ind(psi, 1, n)  # |g, n>\n",
    "rotatetime = rotation_time(c1, c2)\n",
    "print(rotatetime)\n",
    "times = time_axis(- rotatetime / delta_off)\n",
    "result = sesolve(Hq, psi, times, [])\n",
    "psi = result.states[-1]\n",
    "psi.tidyup(atol=atol)\n",
    "print(\"Psi data:\")\n",
    "print(psi.data)"
   ]
  },
  {
   "cell_type": "markdown",
   "metadata": {},
   "source": [
    "Looks like all three types of pulses are working properly. Let's write some tools to do this more systematically. "
   ]
  },
  {
   "cell_type": "code",
   "execution_count": 15,
   "metadata": {},
   "outputs": [
    {
     "name": "stdout",
     "output_type": "stream",
     "text": [
      "Top occupied Fock state is 3.\n",
      "  (11, 0)\t(0.7071067811865475+0j)\n",
      "  (13, 0)\t0.7071067811865475j\n",
      "\n",
      "(1.8137994+0j)\n",
      "swap\n",
      "  (0, 0)\t0.5570577035726526j\n",
      "  (2, 0)\t(-0.7069258522332862+0j)\n",
      "  (11, 0)\t(0.4358239946750113+0j)\n",
      "\n",
      "(-3.1415927-3.8473414e-16j)\n",
      "drive\n",
      "  (1, 0)\t(0.19762994532770356+0.3885038897084145j)\n",
      "  (10, 0)\t(0.5570402168258074+0j)\n",
      "  (12, 0)\t0.7069036609354424j\n",
      "\n",
      "(4.24181+0j)\n",
      "rotate\n",
      "  (1, 0)\t(-0.43584307850436305+0j)\n",
      "  (10, 0)\t(0.5570519830749772+0j)\n",
      "  (12, 0)\t0.7069185927201899j\n",
      "\n",
      "(1.4400997+0j)\n",
      "swap\n",
      "  (1, 0)\t(-0.8303229748472882+0j)\n",
      "  (10, 0)\t(0.557282475447271+0j)\n",
      "\n",
      "(-3.1415927-3.8473414e-16j)\n",
      "drive\n",
      "  (0, 0)\t(0.2526291721263819+0.4966986429299919j)\n",
      "  (11, 0)\t0.8303421532181466j\n",
      "\n",
      "(4.241872+0j)\n",
      "rotate\n",
      "  (0, 0)\t(-0.5572113961612642+0j)\n",
      "  (11, 0)\t0.8303706739673655j\n",
      "\n",
      "(1.9595451+0j)\n",
      "swap\n",
      "  (0, 0)\t(-0.9999999999999054+0j)\n",
      "\n",
      "(-3.1415927-3.8473414e-16j)\n",
      "drive\n",
      "  (10, 0)\t0.9999994669844531j\n",
      "\n",
      "[-3.1415927-3.8473414e-16j  1.9595451+0.0000000e+00j\n",
      "  4.241872 +0.0000000e+00j -3.1415927-3.8473414e-16j\n",
      "  1.4400997+0.0000000e+00j  4.24181  +0.0000000e+00j\n",
      " -3.1415927-3.8473414e-16j  1.8137994+0.0000000e+00j]\n"
     ]
    }
   ],
   "source": [
    "############ EVOLUTION ############\n",
    "def evolve_swap(psi, pulse):\n",
    "    \"\"\"Implement swap pulse\"\"\"\n",
    "    print(\"swap\")\n",
    "    times = time_axis(np.real(pulse) / omega)\n",
    "    result = sesolve(-Hc, psi, times, [])\n",
    "    psi = result.states[-1]\n",
    "    return psi.tidyup(atol=atol)\n",
    "\n",
    "\n",
    "def evolve_drive(psi, pulse):\n",
    "    \"\"\"Implement drive pulse\"\"\"\n",
    "    print(\"drive\")\n",
    "    times = time_axis(pulse_time)\n",
    "    \n",
    "    def omegaq(t, args):\n",
    "        return pulse * np.exp(1j * t * delta_off \n",
    "                      - (1/2) * ((t - pulse_time / 2)**2) / (pulse_sig ** 2)) / np.sqrt(2 * np.pi * (pulse_sig**2))\n",
    "    def omegaqdag(t, args):\n",
    "        return np.conj(omegaq(t, args))\n",
    "    \n",
    "    # print(\"Integral:\")\n",
    "    # print(np.sum(omegaq(times, []) * np.exp(1j * times * delta_off)) * dt)\n",
    "    result = sesolve([-Hq, [-Hd.dag(), omegaqdag], [-Hd, omegaq]], psi, times, [])\n",
    "    psi = result.states[-1]\n",
    "    return psi.tidyup(atol=atol)\n",
    "    \n",
    "    \n",
    "def evolve_rotation(psi, pulse):\n",
    "    print(\"rotate\")\n",
    "    \"\"\"Implement rotation pulse\"\"\"\n",
    "    times = time_axis(- np.real(pulse) / delta_off)\n",
    "    result = sesolve(-Hq, psi, times, [])\n",
    "    psi = result.states[-1]\n",
    "    return psi.tidyup(atol=atol)\n",
    "\n",
    "\n",
    "############ CALCULATION ############\n",
    "def swap_time(n, psi):\n",
    "    \"\"\"Computes the on-resonance time necessary to swap c1 |e, n-1> + c2 |g, n> down to pure |e, n-1>. \n",
    "    Returns time in units of omega.\"\"\"\n",
    "    c1 = get_ind(psi, 0, n - 1)\n",
    "    c2 = get_ind(psi, 1, n)\n",
    "    if c1 == 0:\n",
    "        return np.pi / np.sqrt(n)\n",
    "    else:\n",
    "        return 2 * np.arctan(np.abs(c2 / c1)) / np.sqrt(n)\n",
    "    \n",
    "    \n",
    "def qubit_drive(n, psi):\n",
    "    \"\"\"Returns the product of amplitude and phase.\"\"\"\n",
    "    c1 = get_ind(psi, 0, n - 1)\n",
    "    c2 = get_ind(psi, 1, n - 1)\n",
    "    return qubit_drive_amp(c1, c2) * np.exp(1j * qubit_drive_phase(c1, c2))\n",
    "    \n",
    "    \n",
    "def rotation_time(n, psi, lb=0):\n",
    "    \"\"\"Computes the detuning time necessary to get c1 |e, n-1> in phase with c2 |g, n>.\n",
    "    Includes an optional argument for a lower bound lb, in case you want to specify that this time must\n",
    "    be longer than the qubit drive operation.\n",
    "    \"\"\"\n",
    "    c1 = get_ind(psi, 0, n - 1)\n",
    "    c2 = get_ind(psi, 1, n)\n",
    "    t = np.angle(c1) - np.angle(c2) + 3 * np.pi / 2\n",
    "    while (- t / delta_off) <= lb:\n",
    "        t = t + 2 * np.pi  # recall that delta_off is negative, hence the sign\n",
    "    return t\n",
    "\n",
    "\n",
    "\n",
    "def calc_sequence(psif):\n",
    "    \"\"\"Calculates the pulse sequence for a given final state psif. Returns it as a list of values, \n",
    "    assuming that the first pulse is a qubit drive pulse. Note it can be off by a phase factor.\"\"\"\n",
    "    \n",
    "    nmax = max(np.nonzero(psif.full()[N:, 0])[0])\n",
    "    print(\"Top occupied Fock state is %d.\" % nmax)\n",
    "    pulses = np.zeros(3 * nmax - 1, dtype=np.csingle)\n",
    "    \n",
    "    n = nmax\n",
    "    psi = psif\n",
    "    print(psi.data)\n",
    "    \n",
    "    # calculate first swap time\n",
    "    pulses[-1] = swap_time(n, psi)\n",
    "    print()\n",
    "    print(pulses[-1])\n",
    "    \n",
    "    # apply first swap\n",
    "    psi = evolve_swap(psi, pulses[-1])\n",
    "    print(psi.data)\n",
    "    \n",
    "    # calculate first qubit drive\n",
    "    pulses[-2] = qubit_drive(n, psi)\n",
    "    print()\n",
    "    print(pulses[-2])\n",
    "    \n",
    "    # apply first qubit drive\n",
    "    psi = evolve_drive(psi, pulses[-2])\n",
    "    print(psi.data)\n",
    "    \n",
    "    # work down the rest of the ladder:\n",
    "    for n in np.arange(nmax - 1, 0, -1):\n",
    "        \n",
    "        # calculate rotation time\n",
    "        pulses[3 * n - 1] = rotation_time(n, psi)\n",
    "        print()\n",
    "        print(pulses[3 * n - 1])\n",
    "        \n",
    "        # apply rotation \n",
    "        psi = evolve_rotation(psi, pulses[3 * n - 1])\n",
    "        print(psi.data)\n",
    "        \n",
    "        # calculate swap time\n",
    "        pulses[3 * n - 2] = swap_time(n, psi)\n",
    "        print()\n",
    "        print(pulses[3 * n - 2])\n",
    "        \n",
    "        # apply swap \n",
    "        psi = evolve_swap(psi, pulses[3 * n - 2])\n",
    "        print(psi.data)\n",
    "        \n",
    "        # calculate qubit drive\n",
    "        pulses[3 * n - 3] = qubit_drive(n, psi)\n",
    "        print()\n",
    "        print(pulses[3 * n - 3])\n",
    "        \n",
    "        # apply qubit drive \n",
    "        psi = evolve_drive(psi, pulses[3 * n - 3])\n",
    "        print(psi.data)\n",
    "        \n",
    "    print()\n",
    "    return pulses\n",
    "            \n",
    "    \n",
    "psif = tensor(basis(2, 1), basis(N, 1) + 1j * basis(N, 3)) / np.sqrt(2)\n",
    "pulses = calc_sequence(psif)\n",
    "\n",
    "print(pulses)"
   ]
  },
  {
   "cell_type": "markdown",
   "metadata": {},
   "source": [
    "Looks good! We end up in the ground state, as desired. Now we need to design the forward-time evolution. \n",
    "\n",
    "Let's try it on a different state."
   ]
  },
  {
   "cell_type": "code",
   "execution_count": 16,
   "metadata": {},
   "outputs": [
    {
     "name": "stdout",
     "output_type": "stream",
     "text": [
      "Top occupied Fock state is 6.\n",
      "  (11, 0)\t(0.5773502691896258+0j)\n",
      "  (16, 0)\t(0.5773502691896258+0j)\n",
      "\n",
      "(1.2825499+0j)\n",
      "swap\n",
      "  (0, 0)\t0.42310454620071875j\n",
      "  (5, 0)\t0.7069381302499416j\n",
      "  (11, 0)\t(0.5667636394325896+0j)\n",
      "\n",
      "(3.1415927+0j)\n",
      "drive\n",
      "  (1, 0)\t(-0.2569966843466694-0.505212996385186j)\n",
      "  (10, 0)\t(-0.42308365661386693+0j)\n",
      "  (15, 0)\t(-0.7069032271849593+0j)\n",
      "\n",
      "(1.5707964+0j)\n",
      "rotate\n",
      "  (1, 0)\t(-0.5051825896855882+0.2569564037024048j)\n",
      "  (10, 0)\t(-0.42309986515777515+0j)\n",
      "  (15, 0)\t(-0.7069303089968358+0j)\n",
      "\n",
      "(1.4049629+0j)\n",
      "swap\n",
      "  (1, 0)\t(-0.2757631952404873+0.14026437246497342j)\n",
      "  (4, 0)\t-0.7067755592472434j\n",
      "  (10, 0)\t(-0.4232563688111049+0j)\n",
      "  (12, 0)\t(-0.21533750226142195-0.4233588090485597j)\n",
      "\n",
      "(-3.1415927+3.8473414e-16j)\n",
      "drive\n",
      "  (0, 0)\t(-0.19195138506750234-0.3772176136097242j)\n",
      "  (2, 0)\t(0.2796510024559646-0.3839124948256835j)\n",
      "  (11, 0)\t(0.14009862469072498+0.27585228576641735j)\n",
      "  (14, 0)\t(-0.7067853013224806+0j)\n",
      "\n",
      "(1.5707964+0j)\n",
      "rotate\n",
      "  (0, 0)\t(-0.37720428848935067+0.19193109605817454j)\n",
      "  (2, 0)\t(-0.3838854215674687-0.2796479964232301j)\n",
      "  (11, 0)\t(0.1401034246478432+0.27586173681667264j)\n",
      "  (14, 0)\t(-0.7068095166860907+0j)\n",
      "\n",
      "(1.5707964+0j)\n",
      "swap\n",
      "  (0, 0)\t(-0.4619129775614345+0.2348477001918046j)\n",
      "  (2, 0)\t(-0.08019198338912709-0.058417241770752686j)\n",
      "  (3, 0)\t-0.7067060038013298j\n",
      "  (11, 0)\t(-0.036657655695530963-0.07167947664654228j)\n",
      "  (13, 0)\t(0.2734763789883745-0.3754133638698119j)\n",
      "\n",
      "(1.5993563+1.1650788j)\n",
      "drive\n",
      "  (0, 0)\t(0.16747169059936656-0.22946312505986288j)\n",
      "  (1, 0)\t(-0.06396640003440487+0.020767976797531458j)\n",
      "  (2, 0)\t(0.053698959846859226+0.00864493647719172j)\n",
      "  (3, 0)\t(-0.09808415122062486+0.07025990556301716j)\n",
      "  (10, 0)\t(-0.38564071376895614-0.19658341993390505j)\n",
      "  (11, 0)\t(-0.020178682613803713-0.039450759304805294j)\n",
      "  (12, 0)\t-0.08287581904686353j\n",
      "  (13, 0)\t(0.627855361164146-0.5539526412341141j)\n",
      "\n",
      "(5.594954+0j)\n",
      "rotate\n",
      "  (0, 0)\t(0.27504607648385426-0.0708201878912653j)\n",
      "  (1, 0)\t(-0.06258175651461566-0.024588886653071216j)\n",
      "  (2, 0)\t(0.03597357748987517+0.040779399309529486j)\n",
      "  (3, 0)\t(-0.12035825843203878-0.00804155450944926j)\n",
      "  (10, 0)\t(-0.38565008434277637-0.196588196658412j)\n",
      "  (11, 0)\t(-0.020179172929862873-0.039451717907564625j)\n",
      "  (12, 0)\t-0.08287783282277604j\n",
      "  (13, 0)\t(0.6278706172426674-0.5539661015715013j)\n",
      "\n",
      "(1.7389135+0j)\n",
      "swap\n",
      "  (0, 0)\t(0.20765292198653484-0.061124796742991545j)\n",
      "  (1, 0)\t(0.057161806781550216-0.00822821816895395j)\n",
      "  (2, 0)\t(0.5550699508661274+0.6291221581286498j)\n",
      "  (3, 0)\t(0.020133624301075737+0.0013451975743010464j)\n",
      "  (10, 0)\t(-0.38578748318596334-0.19665823681113548j)\n",
      "  (11, 0)\t(0.041092861178352286+0.18471027276264487j)\n",
      "  (12, 0)\t(0.02317243910011066-0.08671026311728017j)\n",
      "  (14, 0)\t(0.007926041804856586-0.11862937529940407j)\n",
      "\n",
      "(-1.6212673-2.4387074j)\n",
      "drive\n",
      "  (0, 0)\t(0.341906269504644-0.22235613993985265j)\n",
      "  (1, 0)\t(-0.18505343952511227-0.05106029154953774j)\n",
      "  (2, 0)\t(-0.019001784414976505+0.029412675813741847j)\n",
      "  (3, 0)\t(-0.00197249249446299+0j)\n",
      "  (4, 0)\t(0.0988711418097197+0.06477679274229853j)\n",
      "  (10, 0)\t(-0.24690584951754263-0.08486024298795283j)\n",
      "  (11, 0)\t(-0.04742273171223209-0.004871946206068522j)\n",
      "  (12, 0)\t(-0.11036121274082873-0.83571683731696j)\n",
      "  (13, 0)\t(-0.015921800060625532-0.012203525025778192j)\n",
      "  (14, 0)\t-0.012721544265804198j\n",
      "\n",
      "(3.5421119+0j)\n",
      "rotate\n",
      "  (0, 0)\t(-0.228142246636628+0.33801676916921086j)\n",
      "  (1, 0)\t(0.19029584440470265-0.025120062079921637j)\n",
      "  (2, 0)\t(0.006031083695465135-0.03448941501730538j)\n",
      "  (3, 0)\t(0.001816217925536823+0j)\n",
      "  (4, 0)\t(-0.11628828649353044-0.021104127815281128j)\n",
      "  (10, 0)\t(-0.2469139382711725-0.08486302305006901j)\n",
      "  (11, 0)\t(-0.047424285303586985-0.004872105813354603j)\n",
      "  (12, 0)\t(-0.11036482822690126-0.8357442157999517j)\n",
      "  (13, 0)\t(-0.015922321666404768-0.012203924819090283j)\n",
      "  (14, 0)\t-0.012721961029674147j\n",
      "\n",
      "(1.9048303+0j)\n",
      "swap\n",
      "  (0, 0)\t(-0.1283024643449124+0.1573295663035522j)\n",
      "  (1, 0)\t(0.857101569782638-0.11318305877429449j)\n",
      "  (2, 0)\t(0.011688819771979223-0.013154202943025885j)\n",
      "  (3, 0)\t(0.011419412807515404+0j)\n",
      "  (4, 0)\t(0.0616286760656739+0.011184440806502815j)\n",
      "  (10, 0)\t(-0.24697918928997012-0.08488544948233524j)\n",
      "  (11, 0)\t(-0.3029488578776895-0.1887400640784j)\n",
      "  (13, 0)\t(0.03562941935196652+0.006972117519251093j)\n",
      "  (14, 0)\t0.005884787896575768j\n",
      "  (15, 0)\t(0.017884408079592472-0.09854693777114812j)\n",
      "\n",
      "(-1.8213016-1.4984777j)\n",
      "drive\n",
      "  (0, 0)\t(0.14230742290011658-0.2814769901318629j)\n",
      "  (1, 0)\t(-0.040902254796846796-0.04934679490979371j)\n",
      "  (2, 0)\t(-0.0017013044513995135+0.006485240385728211j)\n",
      "  (3, 0)\t(-0.017278848996373435+0.0327249927830314j)\n",
      "  (4, 0)\t(-0.0281748082121729+0.0056590840627014655j)\n",
      "  (5, 0)\t(0.0853436160908234+0.035798905533162693j)\n",
      "  (10, 0)\t(0.09308353412042666-0.0331852111283869j)\n",
      "  (11, 0)\t(-0.6995847278520252-0.6176431529731071j)\n",
      "  (12, 0)\t(-0.016248080853350392+0j)\n",
      "  (13, 0)\t(0.006932967710915054-0.005485644455418522j)\n",
      "  (14, 0)\t(-0.0281735860343433-0.04830423276822382j)\n",
      "  (15, 0)\t(0.006838729221321258-0.03770672789125964j)\n",
      "\n",
      "(6.0280113+0j)\n",
      "rotate\n",
      "  (0, 0)\t(0.20872347120923748-0.23637646141992527j)\n",
      "  (1, 0)\t(-0.027111745149373468-0.05806328529549005j)\n",
      "  (2, 0)\t(-0.003282961083183558+0.005844334677640143j)\n",
      "  (3, 0)\t(-0.024976563457477473+0.0272962526278178j)\n",
      "  (4, 0)\t(-0.028684823671281185-0.0016378112181024607j)\n",
      "  (5, 0)\t(0.0735242364961603+0.05617578113502458j)\n",
      "  (10, 0)\t(0.09308605537000733-0.033186109979085145j)\n",
      "  (11, 0)\t(-0.6996036767211057-0.6176598823823962j)\n",
      "  (12, 0)\t(-0.016248520946944036+0j)\n",
      "  (13, 0)\t(0.00693315549645734-0.005485793038934531j)\n",
      "  (14, 0)\t(-0.0281743491407578-0.048305541130951445j)\n",
      "  (15, 0)\t(0.00683891445433098-0.03770774921122537j)\n",
      "\n",
      "(2.4898906+0j)\n",
      "swap\n",
      "  (0, 0)\t(0.6519792858463371-0.7384640181399669j)\n",
      "  (1, 0)\t(0.005114826100816134-0.005000331194724277j)\n",
      "  (2, 0)\t(0.006384392211063663+0.0025478141729967513j)\n",
      "  (3, 0)\t(0.04913505009003885-0.038773552741793234j)\n",
      "  (4, 0)\t(0.04005034125885277+0.0039268919369148695j)\n",
      "  (5, 0)\t(-0.0731577108231526-0.05589573924722727j)\n",
      "  (10, 0)\t(0.09310102499417318-0.033191446799857485j)\n",
      "  (12, 0)\t(0.06007761774608465-0.026620965289993314j)\n",
      "  (13, 0)\t(-0.008699722547793535+0j)\n",
      "  (14, 0)\t(0.005841180409346902+0.023245755096450375j)\n",
      "  (15, 0)\t(-0.005828690667043976+0.02525832169304526j)\n",
      "  (16, 0)\t(-0.005163329760707942+0.006757892293860221j)\n",
      "\n",
      "(2.5743256+1.4233042j)\n",
      "drive\n",
      "  (0, 0)\t(-0.054581624417259014+0.0013145639432933284j)\n",
      "  (2, 0)\t(-0.025100227523883908-0.06057801212075064j)\n",
      "  (3, 0)\t(-0.0029220416417774105+0.014308543561044851j)\n",
      "  (4, 0)\t(0.01957216932896658-0.00356170988488726j)\n",
      "  (5, 0)\t(0.033934800729161205+0.00833611886541726j)\n",
      "  (6, 0)\t(0.006542721259270536+0.00536403095753168j)\n",
      "  (10, 0)\t(0.9661145688951844+0.209345462005012j)\n",
      "  (11, 0)\t(0.006815036066443495+0.0020499802151819142j)\n",
      "  (12, 0)\t(0.00690108920646232+0.004100465591846266j)\n",
      "  (13, 0)\t(0.056525102858063954+0.024147780157990222j)\n",
      "  (14, 0)\t(0.016431515832608375+0.03911213332571032j)\n",
      "  (15, 0)\t(0.012913414906929722-0.08805570955821046j)\n",
      "\n"
     ]
    }
   ],
   "source": [
    "psif = tensor(basis(2, 1), basis(N, 1) + basis(N, 6)) / np.sqrt(3)\n",
    "pulses_2 = calc_sequence(psif)"
   ]
  },
  {
   "cell_type": "markdown",
   "metadata": {},
   "source": [
    "We end up /almost/ completely in the ground state, as hoped. The small components of other states are artifacts of the numerical evolution."
   ]
  },
  {
   "cell_type": "markdown",
   "metadata": {},
   "source": [
    "## Step 2: Creating arbitrary states using pulse sequences\n",
    "\n",
    "If we want to do this via density matrix with collapse operators, then we need to do the whole evolution in one go. That means we need the complete time dependence of the operators. Let's work these out now."
   ]
  },
  {
   "cell_type": "code",
   "execution_count": 17,
   "metadata": {
    "scrolled": false
   },
   "outputs": [
    {
     "name": "stdout",
     "output_type": "stream",
     "text": [
      "Start times:\n",
      "[  0.          25.          41.41427612  42.87240601  67.87240601\n",
      "  79.93550873  81.39361572 106.39361572 121.58704376]\n",
      "\n",
      "Step 0: rotate\n",
      "  (10, 0)\t(1+0j)\n",
      "\n",
      "Step 1: drive\n",
      "  (0, 0)\t(0.4643842643280601-0.8853850601872169j)\n",
      "\n",
      "Step 2: swap\n",
      "  (0, 0)\t(0.2793183370592811-0.4821334896201098j)\n",
      "  (11, 0)\t(-0.7411716669689069-0.374397789751708j)\n",
      "\n",
      "Step 3: rotate\n",
      "  (0, 0)\t(-0.570795917931398-0.06039368647508994j)\n",
      "  (11, 0)\t(-0.7244320633185544-0.3817365578435575j)\n",
      "\n",
      "Step 4: drive\n",
      "  (1, 0)\t0.8287693593565156j\n",
      "  (10, 0)\t(0.4818842542427331-0.2820596576796776j)\n",
      "\n",
      "Step 5: swap\n",
      "  (1, 0)\t0.43362009020508924j\n",
      "  (10, 0)\t(0.4820722166216336-0.28216938125880314j)\n",
      "  (12, 0)\t(0.7058684703293351+0j)\n",
      "\n",
      "Step 6: rotate\n",
      "  (1, 0)\t(0.4346824559594561-0.1385672131738872j)\n",
      "  (10, 0)\t(0.48209291632225415-0.28218167305212233j)\n",
      "  (12, 0)\t(0.692225515349384+0j)\n",
      "\n",
      "Step 7: drive\n",
      "  (0, 0)\t(-0.5090454255497018+0.248402811673453j)\n",
      "  (2, 0)\t(-0.7011044923824007-0.06563501259035154j)\n",
      "  (11, 0)\t(-0.4251410177699454+0j)\n",
      "\n",
      "Swap, and final state:\n",
      "  (0, 0)\t(-0.3434260649536169+0.4878441693577001j)\n",
      "  (11, 0)\t0.3778905328609974j\n",
      "  (13, 0)\t0.700915857848119j\n"
     ]
    }
   ],
   "source": [
    "\n",
    "p = pulses\n",
    "\n",
    "start_times = np.real(p) + 0  # to make it a new array\n",
    "start_times[0::3] = pulse_time\n",
    "start_times[1::3] = start_times[1::3] / omega\n",
    "start_times[2::3] = - start_times[2::3] / delta_off\n",
    "start_times = np.cumsum(start_times)\n",
    "start_times = np.concatenate(([0], start_times))\n",
    "print(\"Start times:\")\n",
    "print(start_times)\n",
    "\n",
    "# get start and stop points for detuning\n",
    "start_detune = np.concatenate(([0], start_times[2:-1:3]))\n",
    "# print(start_detune)\n",
    "stop_detune = start_times[1::3]\n",
    "# print(stop_detune)\n",
    "start_detune = np.concatenate((start_detune, np.zeros(N - len(start_detune))))\n",
    "stop_detune = np.concatenate((stop_detune, np.zeros(N - len(stop_detune))))\n",
    "\n",
    "# get info for gaussian pulses\n",
    "gauss_c = start_times[0::3] + pulse_time / 2  # centers\n",
    "# print(gauss_c)\n",
    "gauss_a = p[0::3]  # amplitudes\n",
    "# print(gauss_a)\n",
    "gauss_c = np.concatenate((gauss_c, np.zeros(N - len(gauss_c))))\n",
    "gauss_a = np.concatenate((gauss_a, np.zeros(N - len(gauss_a), dtype=np.csingle)))\n",
    "\n",
    "# get time axis (here we will use the array version of defining time dependence)\n",
    "dt = 0.01\n",
    "times = time_axis(start_times[-1], dt=dt)\n",
    "\n",
    "\n",
    "\n",
    "####### THIS SECTION IS DEPROCATED BUT PRESERVED IN CASE ITS IMPORTANT LATER #######\n",
    "def delta(t, args):\n",
    "    return np.sign(1. * (\n",
    "        np.bitwise_and(t > start_detune[0], t < stop_detune[0])\n",
    "        + np.bitwise_and(t > start_detune[1], t < stop_detune[1])\n",
    "        + np.bitwise_and(t > start_detune[2], t < stop_detune[2])\n",
    "        + np.bitwise_and(t > start_detune[3], t < stop_detune[3])\n",
    "        + np.bitwise_and(t > start_detune[4], t < stop_detune[4])\n",
    "        + np.bitwise_and(t > start_detune[5], t < stop_detune[5])\n",
    "        + np.bitwise_and(t > start_detune[6], t < stop_detune[6])\n",
    "        + np.bitwise_and(t > start_detune[7], t < stop_detune[7])\n",
    "        + np.bitwise_and(t > start_detune[8], t < stop_detune[8])\n",
    "        + np.bitwise_and(t > start_detune[9], t < stop_detune[9])\n",
    "    ))\n",
    "\n",
    "def gauss(c, a, t):\n",
    "    return a * np.exp(- 1j * t * delta_off \n",
    "                      - (1/2) * ((t - c / 2)**2) / (pulse_sig ** 2)) / np.sqrt(2 * np.pi * (pulse_sig**2))\n",
    "\n",
    "def drive(t, args):\n",
    "    return (\n",
    "        gauss(gauss_c[0], gauss_a[0], t)\n",
    "        + gauss(gauss_c[1], gauss_a[1], t)\n",
    "        + gauss(gauss_c[2], gauss_a[2], t)\n",
    "        + gauss(gauss_c[3], gauss_a[3], t)\n",
    "        + gauss(gauss_c[4], gauss_a[4], t)\n",
    "        + gauss(gauss_c[5], gauss_a[5], t)\n",
    "        + gauss(gauss_c[6], gauss_a[6], t)\n",
    "        + gauss(gauss_c[7], gauss_a[7], t)\n",
    "        + gauss(gauss_c[8], gauss_a[8], t)\n",
    "        + gauss(gauss_c[9], gauss_a[9], t)\n",
    "    )\n",
    "\n",
    "def drivedag(t, args):\n",
    "    return np.conj(drive(t, args))\n",
    "\n",
    "##################### END DEPROCATED #####################\n",
    "\n",
    "\n",
    "\n",
    "# define delta\n",
    "delta = np.zeros_like(times)\n",
    "for i in range(len(start_detune)):\n",
    "    delta[np.bitwise_and(times >= start_detune[i], times < stop_detune[i])] = 1\n",
    "# print(delta)\n",
    "antidelta = 1 - delta\n",
    "\n",
    "\n",
    "# define drive\n",
    "drive = np.zeros_like(times)\n",
    "for i in range(len(gauss_c)):\n",
    "    drive = (drive\n",
    "             + gauss_a[i] * np.exp(- 1j * times * delta_off)\n",
    "             * np.exp(- (1/2) * ((times - gauss_c[i])**2) / (pulse_sig ** 2)) \n",
    "             / np.sqrt(2 * np.pi * (pulse_sig**2)))\n",
    "# print(drive)\n",
    "drivedag = np.conj(drive)\n",
    "\n",
    "\n",
    "\n",
    "\n",
    "Htot = [Hc, [Hq, delta], [Hd, drive], [Hd.dag(), drivedag]]\n",
    "psi0 = tensor(basis(2, 1), basis(N, 0))\n",
    "\n",
    "result = sesolve(Htot, psi0, times, [])\n",
    "for i in range(start_times.size - 1):\n",
    "    print()\n",
    "    print(\"Step %d: %s\" % (i, [\"drive\", \"swap\", \"rotate\"][(i - 1) % 3]))\n",
    "    print(result.states[int(start_times[i] / dt)].tidyup(atol=5e-2).data)\n",
    "psif = result.states[-1]\n",
    "psif.tidyup(atol=1e-1)\n",
    "print()\n",
    "print(\"Swap, and final state:\")\n",
    "print(psif.data)"
   ]
  },
  {
   "cell_type": "markdown",
   "metadata": {},
   "source": [
    "I can't figure out why we are ending up with such a large proportion of |e, 0> in the final state."
   ]
  }
 ],
 "metadata": {
  "kernelspec": {
   "display_name": "Python 3",
   "language": "python",
   "name": "python3"
  },
  "language_info": {
   "codemirror_mode": {
    "name": "ipython",
    "version": 3
   },
   "file_extension": ".py",
   "mimetype": "text/x-python",
   "name": "python",
   "nbconvert_exporter": "python",
   "pygments_lexer": "ipython3",
   "version": "3.8.2"
  }
 },
 "nbformat": 4,
 "nbformat_minor": 4
}
