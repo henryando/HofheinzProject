{
 "cells": [
  {
   "cell_type": "markdown",
   "metadata": {},
   "source": [
    "# Arbitrary State Generation\n",
    "\n",
    "## Step 1: Computing pulse sequences\n",
    "\n",
    "In this first section, we develop tools for computing the pulse sequences necessary for generating arbitrary resonator states. We follow the algorithm laid out in the paper, starting with the desired final state and then repetitively emptying the top Fock state into the qubit, and proceeding down the ladder to the ground state. \n",
    "\n",
    "First, let's import modules."
   ]
  },
  {
   "cell_type": "code",
   "execution_count": 1,
   "metadata": {},
   "outputs": [],
   "source": [
    "import numpy as np\n",
    "import matplotlib.pyplot as plt\n",
    "from qutip import *"
   ]
  },
  {
   "cell_type": "markdown",
   "metadata": {},
   "source": [
    "Let's define some constants. "
   ]
  },
  {
   "cell_type": "code",
   "execution_count": 2,
   "metadata": {},
   "outputs": [],
   "source": [
    "t1q = 650  # qubit T1 in ns\n",
    "t2q = 150  # qubit T2 in ns\n",
    "t1r = 3500  # resonator T1 in ns\n",
    "w_r = 2 * np.pi * 6.570  # resonator frequency in GHz\n",
    "omega = 2 * np.pi * 19e-3  # qubit/cavity interaction strength in GHz\n",
    "delta_on = 0  # qubit/cavity detuning when on resonance \n",
    "delta_off = - 2 * np.pi * 463e-3  # qubit/cavity detuning when off resonance in GHz\n",
    "pulse_width = 8  # qubit drive pulse FWHM in ns\n",
    "pulse_sig = pulse_width / (2 * np.sqrt(2 * np.log(2)))\n",
    "pulse_time = 30  # the length of time to allow (should be more than twice pulse_width to get most of the Gaussian)\n",
    "N = 10  # the number of Fock states to include\n",
    "dt = 0.01  # the time increment to use in numerical evolutions, in ns\n",
    "atol = 1e-3"
   ]
  },
  {
   "cell_type": "markdown",
   "metadata": {},
   "source": [
    "And let's also define the operators we will need."
   ]
  },
  {
   "cell_type": "code",
   "execution_count": 3,
   "metadata": {},
   "outputs": [],
   "source": [
    "sm = tensor(sigmam(), identity(N))\n",
    "a = tensor(identity(2), destroy(N))"
   ]
  },
  {
   "cell_type": "markdown",
   "metadata": {},
   "source": [
    "There are three types of pulses: swap operations, qubit drive operations, and phase rotation operations. Let's write some functions to calculate the length of time each step needs to be applied for. Let's start with the swap operation. In the rest of this section, we imagine we are descending the ladder, as this is the order in which the operations are computed. In each step, we focus only on the two highest-energy components of whatever the complete state is.\n",
    "\n",
    "The swap operation needs to take a superposition $c_1 | e, n-1 \\rangle + c_2 |g, n\\rangle$ and transfer it to pure $|e, n-1\\rangle$. When the qubit is tuned on resonance, we have Rabi oscillations between these two states at a frequency $\\sqrt{n}\\Omega$. We note that the previous rotation operation has left these two states in phase with one another, so we can assume that the coefficients $c_1$ and $c_2$ are real. Thus the on-resonance pulse duration is simply \n",
    "\\begin{equation}\n",
    "\\tau_n = \\frac{2}{\\sqrt{n}\\Omega}\\sin^{-1} (c_2 / c_1 ).\n",
    "\\end{equation}\n",
    "Let's make a function for this."
   ]
  },
  {
   "cell_type": "code",
   "execution_count": 4,
   "metadata": {},
   "outputs": [],
   "source": [
    "def swap_time(n, c1, c2):\n",
    "    \"\"\"Computes the on-resonance time necessary to swap c1 |e, n-1> + c2 |g, n> down to pure |e, n-1>. \n",
    "    Returns time in units of omega.\"\"\"\n",
    "    if c1 == 0:\n",
    "        return np.pi / np.sqrt(n)\n",
    "    else:\n",
    "        return 2 * np.arcsin(np.abs(c2 / c1)) / np.sqrt(n)"
   ]
  },
  {
   "cell_type": "markdown",
   "metadata": {},
   "source": [
    "Next, let's deal with the phase rotation operations. In the swap operation, we assumed that the two swap states were in phase with each other; in general, this will not be true following a qubit drive operation. Thus we need to engineer this to be true, which is what the phase rotation is for. The phase rotation is accomplished by leaving the qubit detuned from the resonator at the detuning freuency $\\Delta_\\text{off}$, which causes the $|e, n-1\\rangle$ states to accumulate phase at a rate of $\\Delta_\\text{off}$ relative to the $|g, n+1\\rangle$ states. Thus, given the coefficients $c_1$ and $c_2$ for $|e, n-1\\rangle$ and $|g, n+1\\rangle$ (which can now be complex), we know that the time of the phase pulse is \n",
    "\\begin{equation}\n",
    "    t_n = \\Delta_\\text{off}\\text{Arg} (c_1 / c_2).\n",
    "\\end{equation}\n",
    "Here is a function for this:"
   ]
  },
  {
   "cell_type": "code",
   "execution_count": 5,
   "metadata": {},
   "outputs": [],
   "source": [
    "def rotation_time(c1, c2, lb=0):\n",
    "    \"\"\"Computes the detuning time necessary to get c1 |e, n-1> in phase with c2 |g, n>.\n",
    "    Includes an optional argument for a lower bound lb, in case you want to specify that this time must\n",
    "    be longer than the qubit drive operation.\n",
    "    \"\"\"\n",
    "    t = np.angle(c2) - np.angle(c1)\n",
    "    while (- t / delta_off) < lb:\n",
    "        t = t + 2 * np.pi  # recall that delta_off is negative, hence the sign\n",
    "    return t"
   ]
  },
  {
   "cell_type": "markdown",
   "metadata": {},
   "source": [
    "Finally, we turn to the qubit drive operations, which are the most complicated. The qubit drive operations take place when the system is detuned and the two highest energy levels are $|e, n \\rangle $ and $|g, n\\rangle$. They need to take an arbitrary Bloch sphere vector $c_1 |e, n \\rangle + c_2 |g, n\\rangle$ and map it down to pure $|g, n\\rangle$. The Hamiltonian in this situation is approximately\n",
    "\\begin{equation}\n",
    "H = \\Delta_\\text{off} \\sigma_+ \\sigma_- + \\frac{\\Omega_q(t)}{2} \\sigma_+ + \\frac{\\Omega_q^* (t)}{2} \\sigma_- =\n",
    "\\Delta_\\text{off} \\sigma_+ \\sigma_- + \\text{Re} (\\Omega_q (t)) \\sigma^x + \\text{Im}(\\Omega_q(t)) \\sigma^y,\n",
    "\\end{equation}\n",
    "where the qubit/resonator interaction has been neglected because the detuning term is more important, and the cavity drive is turned off. We flip into the interaction picture with respect to the time-independent term of this Hamiltonian, and find that the ground state is unchanged while the excited state precesses at frequency $\\Delta_\\text{off}$. This corresponds to the Bloch sphere precessing around the $z$ axis. Thus whatever pulse we apply should be rotating by a phase factor\n",
    "\\begin{equation}\n",
    "p(t) = e^{i\\Delta_\\text{off}t}\n",
    "\\end{equation}\n",
    "The supplementary materials specify that the pulse is modulated by a Gaussian envelope with a FWHM of 8 ns. This corresponds to an envelope given by\n",
    "\\begin{equation}\n",
    "g(t) = \\frac{1}{\\sqrt{2\\pi w^2}}e^{(t-t_c)^2/2 w^2}, \n",
    "\\end{equation}\n",
    "where $w= \\text{FWHM} / 2\\sqrt{2\\ln 2}$. \n",
    "The functional form of the pulse is thus \n",
    "\\begin{equation}\n",
    "\\Omega_q (t) = (a + ib) g(t)  p(t),\n",
    "\\end{equation}\n",
    "where $a + ib  = q_n $ is a prefactor which controls what axis we rotate the state about, and by how much.\n",
    "The real part of the pulse will cause precession around the $x$ axis of the Bloch sphere and the imaginary part of the pulse will cause precession around the $y$ axis, so by picking these parameters correctly we can cause the state to rotate from an arbitrary location on the Bloch sphere down to pure $|g, n\\rangle$. Specifically, we want to pick these parameters such that \n",
    "\\begin{equation}\n",
    "\\text{Arg} (a + i b) = \\frac{\\pi}{2} + \\text{Arg} (c_2 / c_1)\n",
    "\\end{equation}\n",
    "and such that \n",
    "\\begin{equation}\n",
    "|a + ib| t_\\text{max} = 2\\sin^{-1} |c_2 / c_1 |.\n",
    "\\end{equation}\n",
    "Note that we have a degree of freedom in the ratio of $t_\\text{max}$ to $|a + ib|$. Let's pick $|a + ib| = \\Delta_\\text{off}$ so that this process is substantially stronger than the coupling term $\\Omega$ (which is part of the approximation we made earlier when we dropped it). We can now write functions to compute these parameters:"
   ]
  },
  {
   "cell_type": "code",
   "execution_count": 6,
   "metadata": {},
   "outputs": [],
   "source": [
    "def qubit_drive_phase(c1, c2):\n",
    "    \"\"\"Return the appropriate phase factor for the qubit drive pulse given a state c1 |e, n> + c2 |g, n>.\"\"\"\n",
    "    return np.angle(c2 / c1)\n",
    "\n",
    "\n",
    "def qubit_drive_amp(c1, c2):\n",
    "    \"\"\"Return the appropriate amplitude for the qubit drive pulse given a state c1 |e, n> + c2 |g, n> and \n",
    "    assuming the drive time is pulse_time.\n",
    "    \"\"\"\n",
    "    if c2 == 0:\n",
    "        return np.pi\n",
    "    else:\n",
    "        return 2 * np.arcsin(np.abs(c1 / c2))\n",
    "    \n",
    "def qubit_drive(c1, c2):\n",
    "    \"\"\"Returns the product of amplitude and phase.\"\"\"\n",
    "    return qubit_drive_amp(c1, c2) * np.exp(1j * qubit_drive_phase(c1, c2))"
   ]
  },
  {
   "cell_type": "markdown",
   "metadata": {},
   "source": [
    "Now we are to the point of working out the actual pulse sequences for the time dependent Hamiltonian. \n",
    "\n",
    "Let's start by defining each component of the Hamiltonian."
   ]
  },
  {
   "cell_type": "code",
   "execution_count": 7,
   "metadata": {},
   "outputs": [],
   "source": [
    "Hq = delta_off * sm.dag() * sm  # the qubit only part of the Hamiltonian\n",
    "Hc = omega * (sm * a.dag() + sm.dag() * a) / 2  # the qubit/resonator coupling term\n",
    "Hd = sm.dag() / 2  # half of the qubit drive term. the other half will be included later - we need to conjugate "
   ]
  },
  {
   "cell_type": "markdown",
   "metadata": {},
   "source": [
    "Next, we need to start from the end state, and work our way backwards, calculating what happens to the state after the backwards evolution from the Hamiltonian at each step. Let's pick as an example $|1 \\rangle + i |3\\rangle$, as in the text."
   ]
  },
  {
   "cell_type": "code",
   "execution_count": 8,
   "metadata": {},
   "outputs": [
    {
     "name": "stdout",
     "output_type": "stream",
     "text": [
      "  (11, 0)\t(1+0j)\n",
      "  (13, 0)\t1j\n"
     ]
    }
   ],
   "source": [
    "psif = tensor(basis(2, 1), basis(N, 1) + 1j * basis(N, 3))\n",
    "print(psif.data)"
   ]
  },
  {
   "cell_type": "markdown",
   "metadata": {},
   "source": [
    "To avoid screwing up indexing later, here's a function to access the coefficients of different states:"
   ]
  },
  {
   "cell_type": "code",
   "execution_count": 9,
   "metadata": {},
   "outputs": [],
   "source": [
    "def get_ind(psi, q, r):\n",
    "    \"\"\"Access the |q, r> coefficient of psi (where q=0 is the excited state).\"\"\"\n",
    "    return psi.full()[N * q + r, 0]"
   ]
  },
  {
   "cell_type": "markdown",
   "metadata": {},
   "source": [
    "Also worth doing linspace stuff in one spot:"
   ]
  },
  {
   "cell_type": "code",
   "execution_count": 10,
   "metadata": {},
   "outputs": [],
   "source": [
    "def time_axis(t):\n",
    "    \"\"\"Returns a time axis for times 0 to t.\"\"\"\n",
    "    return np.linspace(0, t, int(t / dt))"
   ]
  },
  {
   "cell_type": "markdown",
   "metadata": {},
   "source": [
    "Let's try implementing the first swap operation on this state:"
   ]
  },
  {
   "cell_type": "code",
   "execution_count": 11,
   "metadata": {
    "scrolled": true
   },
   "outputs": [
    {
     "name": "stdout",
     "output_type": "stream",
     "text": [
      "0j\n",
      "1j\n",
      "1.8137993642342178\n",
      "  (0, 0)\t-0.5570576998628572j\n",
      "  (2, 0)\t(0.7069258522339451+0j)\n",
      "  (11, 0)\t(0.4358239994156881+0j)\n"
     ]
    }
   ],
   "source": [
    "psi = psif\n",
    "n = 3\n",
    "c1 = get_ind(psi, 0, n - 1)  # |e, n-1> \n",
    "c2 = get_ind(psi, 1, n)  # |g, n>\n",
    "s = swap_time(n, c1, c2)\n",
    "print(c1)\n",
    "print(c2)\n",
    "print(s)  # check we get the right value for the swap time; this should print 1.81\n",
    "times = time_axis(s / omega)\n",
    "result = sesolve(Hc, psi, times, [])\n",
    "psi = result.states[-1]\n",
    "psi.tidyup(atol=atol)\n",
    "print(psi.data)\n",
    "psi0 = psi"
   ]
  },
  {
   "cell_type": "markdown",
   "metadata": {},
   "source": [
    "Note: think about using Qobj.tidyup\n",
    "\n",
    "This looks good though. Let's think about the qubit drive operation now. "
   ]
  },
  {
   "cell_type": "code",
   "execution_count": 12,
   "metadata": {
    "scrolled": false
   },
   "outputs": [
    {
     "name": "stdout",
     "output_type": "stream",
     "text": [
      "Drive amp: 3.14\n",
      "Drive phase: 0.00\n",
      "Integral:\n",
      "(3.1405139906925013-5.649472853658748e-19j)\n",
      "Psi data:\n",
      "  (1, 0)\t(-0.2781756698540331-0.3356739830365902j)\n",
      "  (10, 0)\t(-0.5570174976728374+0j)\n",
      "  (12, 0)\t-0.7068748342380619j\n"
     ]
    }
   ],
   "source": [
    "psi = psi0\n",
    "n = 2\n",
    "c1 = get_ind(psi, 0, n)  # |e, n> \n",
    "c2 = get_ind(psi, 1, n)  # |g, n>\n",
    "driveamp = qubit_drive_amp(c1, c2)\n",
    "drivephase = qubit_drive_phase(c1, c2)\n",
    "print(\"Drive amp: %.2f\" % driveamp)\n",
    "print(\"Drive phase: %.2f\" % drivephase)\n",
    "\n",
    "times = time_axis(pulse_time)\n",
    "def omegaq(t, args):\n",
    "    return driveamp * np.exp(-1j * drivephase - 1j * t * delta_off \n",
    "                  - (1/2) * ((t - pulse_time / 2)**2) / (pulse_sig ** 2)) / np.sqrt(2 * np.pi * (pulse_sig**2))\n",
    "def omegaqdag(t, args):\n",
    "    return np.conj(omegaq(t, args))\n",
    "\n",
    "print(\"Integral:\")\n",
    "print(np.sum(omegaq(times, []) * np.exp(1j * times * delta_off)) * dt)\n",
    "\n",
    "result = sesolve([Hq, [Hd.dag(), omegaqdag], [Hd, omegaq]], psi, times, [])\n",
    "psi = result.states[-1]\n",
    "psi.tidyup(atol=atol)\n",
    "print(\"Psi data:\")\n",
    "print(psi.data)\n",
    "psi0 = psi"
   ]
  },
  {
   "cell_type": "markdown",
   "metadata": {},
   "source": [
    "Just for reference, this is what the pulse looks like:"
   ]
  },
  {
   "cell_type": "code",
   "execution_count": 13,
   "metadata": {},
   "outputs": [
    {
     "data": {
      "image/png": "[encoded data removed]",
      "text/plain": [
       "<Figure size 432x288 with 1 Axes>"
      ]
     },
     "metadata": {
      "needs_background": "light"
     },
     "output_type": "display_data"
    }
   ],
   "source": [
    "plt.figure()\n",
    "plt.plot(times, np.real(omegaq(times, [])))\n",
    "plt.show()"
   ]
  },
  {
   "cell_type": "markdown",
   "metadata": {},
   "source": [
    "Great, now we ned to get the $|e, 1\\rangle$ component in phase with the $|g, 2 \\rangle$ component."
   ]
  },
  {
   "cell_type": "code",
   "execution_count": 14,
   "metadata": {},
   "outputs": [
    {
     "name": "stdout",
     "output_type": "stream",
     "text": [
      "0.692002274568396\n",
      "Psi data:\n",
      "  (1, 0)\t-0.4359396434964187j\n",
      "  (10, 0)\t(-0.5570230349366465+0j)\n",
      "  (12, 0)\t-0.7068818612209727j\n"
     ]
    }
   ],
   "source": [
    "psi = psi0\n",
    "n = 2\n",
    "c1 = get_ind(psi, 0, n - 1)  # |e, n-1> \n",
    "c2 = get_ind(psi, 1, n)  # |g, n>\n",
    "rotatetime = rotation_time(c1, c2)\n",
    "print(rotatetime)\n",
    "times = time_axis(- rotatetime / delta_off)\n",
    "result = sesolve(Hq, psi, times, [])\n",
    "psi = result.states[-1]\n",
    "psi.tidyup(atol=atol)\n",
    "print(\"Psi data:\")\n",
    "print(psi.data)"
   ]
  },
  {
   "cell_type": "markdown",
   "metadata": {},
   "source": [
    "Looks like all three types of pulses are working properly. Let's write some tools to do this more systematically. "
   ]
  },
  {
   "cell_type": "code",
   "execution_count": 34,
   "metadata": {},
   "outputs": [
    {
     "name": "stdout",
     "output_type": "stream",
     "text": [
      "Top occupied Fock state is 3.\n",
      "  (11, 0)\t(0.7071067811865475+0j)\n",
      "  (13, 0)\t0.7071067811865475j\n",
      "\n",
      "(1.8137994+0j)\n",
      "swap\n",
      "  (0, 0)\t-0.5570577035726526j\n",
      "  (2, 0)\t(0.7069258522332862+0j)\n",
      "  (11, 0)\t(0.4358239946750113+0j)\n",
      "\n",
      "(3.1415927+0j)\n",
      "drive\n",
      "  (1, 0)\t(-0.2781756667910632-0.3356739793267168j)\n",
      "  (10, 0)\t(-0.5570175013967921+0j)\n",
      "  (12, 0)\t-0.706874834255712j\n",
      "\n",
      "(5.4043913+0j)\n",
      "rotate\n",
      "  (1, 0)\t(-0.4359078867006981+0j)\n",
      "  (10, 0)\t(-0.5570325563232419+0j)\n",
      "  (12, 0)\t-0.7068939394877964j\n",
      "\n",
      "(1.4399837+0j)\n",
      "swap\n",
      "  (1, 0)\t(-0.830336019127729+0j)\n",
      "  (10, 0)\t(-0.5572630396311935+0j)\n",
      "\n",
      "(-3.1415927-3.8473414e-16j)\n",
      "drive\n",
      "  (0, 0)\t(-0.3555866275425046-0.4290321174397066j)\n",
      "  (11, 0)\t-0.8303544368343281j\n",
      "\n",
      "(5.4044523+0j)\n",
      "rotate\n",
      "  (0, 0)\t(-0.557181287061293+0j)\n",
      "  (11, 0)\t-0.8303908761160689j\n",
      "\n",
      "(1.9596177+0j)\n",
      "swap\n",
      "  (0, 0)\t(-0.9999999999999223+0j)\n",
      "\n",
      "(-3.1415927-3.8473414e-16j)\n",
      "drive\n",
      "  (10, 0)\t(-0.0011632866686336369-0.9999992577159549j)\n",
      "\n",
      "[-3.1415927-3.8473414e-16j  1.9596177+0.0000000e+00j\n",
      "  5.4044523+0.0000000e+00j -3.1415927-3.8473414e-16j\n",
      "  1.4399837+0.0000000e+00j  5.4043913+0.0000000e+00j\n",
      "  3.1415927+0.0000000e+00j  1.8137994+0.0000000e+00j]\n"
     ]
    }
   ],
   "source": [
    "############ EVOLUTION ############\n",
    "def evolve_swap(psi, pulse):\n",
    "    \"\"\"Implement swap pulse\"\"\"\n",
    "    print(\"swap\")\n",
    "    times = time_axis(np.real(pulse) / omega)\n",
    "    result = sesolve(Hc, psi, times, [])\n",
    "    psi = result.states[-1]\n",
    "    return psi.tidyup(atol=atol)\n",
    "\n",
    "\n",
    "def evolve_drive(psi, pulse):\n",
    "    \"\"\"Implement drive pulse\"\"\"\n",
    "    print(\"drive\")\n",
    "    times = time_axis(pulse_time)\n",
    "    \n",
    "    def omegaq(t, args):\n",
    "        return pulse * np.exp(- 1j * t * delta_off \n",
    "                      - (1/2) * ((t - pulse_time / 2)**2) / (pulse_sig ** 2)) / np.sqrt(2 * np.pi * (pulse_sig**2))\n",
    "    def omegaqdag(t, args):\n",
    "        return np.conj(omegaq(t, args))\n",
    "    \n",
    "    # print(\"Integral:\")\n",
    "    # print(np.sum(omegaq(times, []) * np.exp(1j * times * delta_off)) * dt)\n",
    "    result = sesolve([Hq, [Hd.dag(), omegaqdag], [Hd, omegaq]], psi, times, [])\n",
    "    psi = result.states[-1]\n",
    "    return psi.tidyup(atol=atol)\n",
    "    \n",
    "    \n",
    "def evolve_rotation(psi, pulse):\n",
    "    print(\"rotate\")\n",
    "    \"\"\"Implement rotation pulse\"\"\"\n",
    "    times = time_axis(- np.real(pulse) / delta_off)\n",
    "    result = sesolve(Hq, psi, times, [])\n",
    "    psi = result.states[-1]\n",
    "    return psi.tidyup(atol=atol)\n",
    "\n",
    "\n",
    "############ CALCULATION ############\n",
    "def swap_time(n, psi):\n",
    "    \"\"\"Computes the on-resonance time necessary to swap c1 |e, n-1> + c2 |g, n> down to pure |e, n-1>. \n",
    "    Returns time in units of omega.\"\"\"\n",
    "    c1 = get_ind(psi, 0, n - 1)\n",
    "    c2 = get_ind(psi, 1, n)\n",
    "    if c1 == 0:\n",
    "        return np.pi / np.sqrt(n)\n",
    "    else:\n",
    "        return 2 * np.arctan(np.abs(c2 / c1)) / np.sqrt(n)\n",
    "    \n",
    "    \n",
    "def qubit_drive(n, psi):\n",
    "    \"\"\"Returns the product of amplitude and phase.\"\"\"\n",
    "    c1 = get_ind(psi, 0, n - 1)\n",
    "    c2 = get_ind(psi, 1, n - 1)\n",
    "    return qubit_drive_amp(c1, c2) * np.exp(1j * qubit_drive_phase(c1, c2))\n",
    "    \n",
    "    \n",
    "def rotation_time(n, psi, lb=0):\n",
    "    \"\"\"Computes the detuning time necessary to get c1 |e, n-1> in phase with c2 |g, n>.\n",
    "    Includes an optional argument for a lower bound lb, in case you want to specify that this time must\n",
    "    be longer than the qubit drive operation.\n",
    "    \"\"\"\n",
    "    c1 = get_ind(psi, 0, n - 1)\n",
    "    c2 = get_ind(psi, 1, n)\n",
    "    t = np.angle(c2) - np.angle(c1) + 3 * np.pi / 2\n",
    "    while (- t / delta_off) <= lb:\n",
    "        t = t + 2 * np.pi  # recall that delta_off is negative, hence the sign\n",
    "    return t\n",
    "\n",
    "\n",
    "\n",
    "def calc_sequence(psif):\n",
    "    \"\"\"Calculates the pulse sequence for a given final state psif. Returns it as a list of values, \n",
    "    assuming that the first pulse is a qubit drive pulse. Note it can be off by a phase factor.\"\"\"\n",
    "    \n",
    "    nmax = max(np.nonzero(psif.full()[N:, 0])[0])\n",
    "    print(\"Top occupied Fock state is %d.\" % nmax)\n",
    "    pulses = np.zeros(3 * nmax - 1, dtype=np.csingle)\n",
    "    \n",
    "    n = nmax\n",
    "    psi = psif\n",
    "    print(psi.data)\n",
    "    \n",
    "    # calculate first swap time\n",
    "    pulses[-1] = swap_time(n, psi)\n",
    "    print()\n",
    "    print(pulses[-1])\n",
    "    \n",
    "    # apply first swap\n",
    "    psi = evolve_swap(psi, pulses[-1])\n",
    "    print(psi.data)\n",
    "    \n",
    "    # calculate first qubit drive\n",
    "    pulses[-2] = qubit_drive(n, psi)\n",
    "    print()\n",
    "    print(pulses[-2])\n",
    "    \n",
    "    # apply first qubit drive\n",
    "    psi = evolve_drive(psi, pulses[-2])\n",
    "    print(psi.data)\n",
    "    \n",
    "    # work down the rest of the ladder:\n",
    "    for n in np.arange(nmax - 1, 0, -1):\n",
    "        \n",
    "        # calculate rotation time\n",
    "        pulses[3 * n - 1] = rotation_time(n, psi)\n",
    "        print()\n",
    "        print(pulses[3 * n - 1])\n",
    "        \n",
    "        # apply rotation \n",
    "        psi = evolve_rotation(psi, pulses[3 * n - 1])\n",
    "        print(psi.data)\n",
    "        \n",
    "        # calculate swap time\n",
    "        pulses[3 * n - 2] = swap_time(n, psi)\n",
    "        print()\n",
    "        print(pulses[3 * n - 2])\n",
    "        \n",
    "        # apply swap \n",
    "        psi = evolve_swap(psi, pulses[3 * n - 2])\n",
    "        print(psi.data)\n",
    "        \n",
    "        # calculate qubit drive\n",
    "        pulses[3 * n - 3] = qubit_drive(n, psi)\n",
    "        print()\n",
    "        print(pulses[3 * n - 3])\n",
    "        \n",
    "        # apply qubit drive \n",
    "        psi = evolve_drive(psi, pulses[3 * n - 3])\n",
    "        print(psi.data)\n",
    "        \n",
    "    print()\n",
    "    return pulses\n",
    "            \n",
    "    \n",
    "psif = tensor(basis(2, 1), basis(N, 1) + 1j * basis(N, 3)) / np.sqrt(2)\n",
    "pulses = calc_sequence(psif)\n",
    "\n",
    "print(pulses)"
   ]
  },
  {
   "cell_type": "code",
   "execution_count": null,
   "metadata": {},
   "outputs": [],
   "source": []
  }
 ],
 "metadata": {
  "kernelspec": {
   "display_name": "Python 3",
   "language": "python",
   "name": "python3"
  },
  "language_info": {
   "codemirror_mode": {
    "name": "ipython",
    "version": 3
   },
   "file_extension": ".py",
   "mimetype": "text/x-python",
   "name": "python",
   "nbconvert_exporter": "python",
   "pygments_lexer": "ipython3",
   "version": "3.8.2"
  }
 },
 "nbformat": 4,
 "nbformat_minor": 4
}
