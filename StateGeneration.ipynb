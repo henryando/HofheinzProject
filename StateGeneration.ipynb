{
 "cells": [
  {
   "cell_type": "markdown",
   "metadata": {},
   "source": [
    "# Arbitrary State Generation\n",
    "\n",
    "## Step 1: Computing pulse sequences\n",
    "\n",
    "In this first section, we develop tools for computing the pulse sequences necessary for generating arbitrary resonator states. We follow the algorithm laid out in the paper, starting with the desired final state and then repetitively emptying the top Fock state into the qubit, and proceeding down the ladder to the ground state. \n",
    "\n",
    "First, let's import modules."
   ]
  },
  {
   "cell_type": "code",
   "execution_count": 1,
   "metadata": {},
   "outputs": [],
   "source": [
    "import numpy as np\n",
    "import matplotlib.pyplot as plt\n",
    "from qutip import *"
   ]
  },
  {
   "cell_type": "markdown",
   "metadata": {},
   "source": [
    "Let's define some constants. "
   ]
  },
  {
   "cell_type": "code",
   "execution_count": 2,
   "metadata": {},
   "outputs": [],
   "source": [
    "t1q = 650  # qubit T1 in ns\n",
    "t2q = 150  # qubit T2 in ns\n",
    "t1r = 3500  # resonator T1 in ns\n",
    "w_r = 2 * np.pi * 6.570  # resonator frequency in GHz\n",
    "omega = 2 * np.pi * 19e-3  # qubit/cavity interaction strength in GHz\n",
    "delta_on = 0  # qubit/cavity detuning when on resonance \n",
    "delta_off = - 2 * np.pi * 463e-3  # qubit/cavity detuning when off resonance in GHz\n",
    "pulse_width = 8  # qubit drive pulse FWHM in ns\n",
    "pulse_sig = pulse_width / (2 * np.sqrt(2 * np.log(2)))\n",
    "pulse_time = 30  # the length of time to allow (should be more than twice pulse_width to get most of the Gaussian)\n",
    "N = 10  # the number of Fock states to include\n",
    "dt = 0.05  # the time increment to use in numerical evolutions, in ns"
   ]
  },
  {
   "cell_type": "markdown",
   "metadata": {},
   "source": [
    "And let's also define the operators we will need."
   ]
  },
  {
   "cell_type": "code",
   "execution_count": 3,
   "metadata": {},
   "outputs": [],
   "source": [
    "sm = tensor(sigmam(), identity(N))\n",
    "a = tensor(identity(2), destroy(N))"
   ]
  },
  {
   "cell_type": "markdown",
   "metadata": {},
   "source": [
    "There are three types of pulses: swap operations, qubit drive operations, and phase rotation operations. Let's write some functions to calculate the length of time each step needs to be applied for. Let's start with the swap operation. In the rest of this section, we imagine we are descending the ladder, as this is the order in which the operations are computed. In each step, we focus only on the two highest-energy components of whatever the complete state is.\n",
    "\n",
    "The swap operation needs to take a superposition $c_1 | e, n-1 \\rangle + c_2 |g, n\\rangle$ and transfer it to pure $|e, n-1\\rangle$. When the qubit is tuned on resonance, we have Rabi oscillations between these two states at a frequency $\\sqrt{n}\\Omega$. We note that the previous rotation operation has left these two states in phase with one another, so we can assume that the coefficients $c_1$ and $c_2$ are real. Thus the on-resonance pulse duration is simply \n",
    "\\begin{equation}\n",
    "\\tau_n = \\frac{2}{\\sqrt{n}\\Omega}\\sin^{-1} (c_2 / c_1 ).\n",
    "\\end{equation}\n",
    "Let's make a function for this."
   ]
  },
  {
   "cell_type": "code",
   "execution_count": 4,
   "metadata": {},
   "outputs": [],
   "source": [
    "def swap_time(n, c1, c2):\n",
    "    \"\"\"Computes the on-resonance time necessary to swap c1 |e, n-1> + c2 |g, n> down to pure |e, n-1>.\"\"\"\n",
    "    if c1 == 0:\n",
    "        return np.pi / omega / np.sqrt(n)\n",
    "    else:\n",
    "        return 2 * np.arcsin(np.abs(c2 / c1)) / omega / np.sqrt(n)"
   ]
  },
  {
   "cell_type": "markdown",
   "metadata": {},
   "source": [
    "Next, let's deal with the phase rotation operations. In the swap operation, we assumed that the two swap states were in phase with each other; in general, this will not be true following a qubit drive operation. Thus we need to engineer this to be true, which is what the phase rotation is for. The phase rotation is accomplished by leaving the qubit detuned from the resonator at the detuning freuency $\\Delta_\\text{off}$, which causes the $|e, n-1\\rangle$ states to accumulate phase at a rate of $\\Delta_\\text{off}$ relative to the $|g, n+1\\rangle$ states. Thus, given the coefficients $c_1$ and $c_2$ for $|e, n-1\\rangle$ and $|g, n+1\\rangle$ (which can now be complex), we know that the time of the phase pulse is \n",
    "\\begin{equation}\n",
    "    t_n = \\Delta_\\text{off}\\text{Arg} (c_1 / c_2).\n",
    "\\end{equation}\n",
    "Here is a function for this:"
   ]
  },
  {
   "cell_type": "code",
   "execution_count": 5,
   "metadata": {},
   "outputs": [],
   "source": [
    "def rotation_time(c1, c2, lb=0):\n",
    "    \"\"\"Computes the detuning time necessary to get c1 |e, n-1> in phase with c2 |g, n>.\n",
    "    Includes an optional argument for a lower bound lb, in case you want to specify that this time must\n",
    "    be longer than the qubit drive operation.\n",
    "    \"\"\"\n",
    "    print(np.angle(c1))\n",
    "    print(np.angle(c2))\n",
    "    t = delta_off * (np.angle(c1) - np.angle(c2))\n",
    "    while t < lb:\n",
    "        t = t - 2 * np.pi * delta_off  # recall that delta_off is negative, hence the sign\n",
    "        print(t/delta_off)\n",
    "    return t"
   ]
  },
  {
   "cell_type": "markdown",
   "metadata": {},
   "source": [
    "Finally, we turn to the qubit drive operations, which are the most complicated. The qubit drive operations take place when the system is detuned and the two highest energy levels are $|e, n \\rangle $ and $|g, n\\rangle$. They need to take an arbitrary Bloch sphere vector $c_1 |e, n \\rangle + c_2 |g, n\\rangle$ and map it down to pure $|g, n\\rangle$. The Hamiltonian in this situation is approximately\n",
    "\\begin{equation}\n",
    "H = \\Delta_\\text{off} \\sigma_+ \\sigma_- + \\frac{\\Omega_q(t)}{2} \\sigma_+ + \\frac{\\Omega_q^* (t)}{2} \\sigma_- =\n",
    "\\Delta_\\text{off} \\sigma_+ \\sigma_- + \\text{Re} (\\Omega_q (t)) \\sigma^x + \\text{Im}(\\Omega_q(t)) \\sigma^y,\n",
    "\\end{equation}\n",
    "where the qubit/resonator interaction has been neglected because the detuning term is more important, and the cavity drive is turned off. We flip into the interaction picture with respect to the time-independent term of this Hamiltonian, and find that the ground state is unchanged while the excited state precesses at frequency $\\Delta_\\text{off}$. This corresponds to the Bloch sphere precessing around the $z$ axis. Thus whatever pulse we apply should be rotating by a phase factor\n",
    "\\begin{equation}\n",
    "p(t) = e^{i\\Delta_\\text{off}t}\n",
    "\\end{equation}\n",
    "The supplementary materials specify that the pulse is modulated by a Gaussian envelope with a FWHM of 8 ns. This corresponds to an envelope given by\n",
    "\\begin{equation}\n",
    "g(t) = \\frac{1}{\\sqrt{2\\pi w^2}}e^{(t-t_c)^2/2 w^2}, \n",
    "\\end{equation}\n",
    "where $w= \\text{FWHM} / 2\\sqrt{2\\ln 2}$. \n",
    "The functional form of the pulse is thus \n",
    "\\begin{equation}\n",
    "\\Omega_q (t) = (a + ib) g(t)  p(t),\n",
    "\\end{equation}\n",
    "where $a + ib  = q_n $ is a prefactor which controls what axis we rotate the state about, and by how much.\n",
    "The real part of the pulse will cause precession around the $x$ axis of the Bloch sphere and the imaginary part of the pulse will cause precession around the $y$ axis, so by picking these parameters correctly we can cause the state to rotate from an arbitrary location on the Bloch sphere down to pure $|g, n\\rangle$. Specifically, we want to pick these parameters such that \n",
    "\\begin{equation}\n",
    "\\text{Arg} (a + i b) = \\frac{\\pi}{2} + \\text{Arg} (c_2 / c_1)\n",
    "\\end{equation}\n",
    "and such that \n",
    "\\begin{equation}\n",
    "|a + ib| t_\\text{max} = 2\\sin^{-1} |c_2 / c_1 |.\n",
    "\\end{equation}\n",
    "Note that we have a degree of freedom in the ratio of $t_\\text{max}$ to $|a + ib|$. Let's pick $|a + ib| = \\Delta_\\text{off}$ so that this process is substantially stronger than the coupling term $\\Omega$ (which is part of the approximation we made earlier when we dropped it). We can now write functions to compute these parameters:"
   ]
  },
  {
   "cell_type": "code",
   "execution_count": 6,
   "metadata": {},
   "outputs": [],
   "source": [
    "def qubit_drive_phase(c1, c2):\n",
    "    \"\"\"Return the appropriate phase factor for the qubit drive pulse given a state c1 |e, n> + c2 |g, n>.\"\"\"\n",
    "    return np.angle(c2 / c1)\n",
    "\n",
    "\n",
    "def qubit_drive_amp(c1, c2):\n",
    "    \"\"\"Return the appropriate amplitude for the qubit drive pulse given a state c1 |e, n> + c2 |g, n> and \n",
    "    assuming the drive time is pulse_time.\n",
    "    \"\"\"\n",
    "    if c2 == 0:\n",
    "        return np.pi\n",
    "    else:\n",
    "        return 2 * np.arcsin(np.abs(c1 / c2))"
   ]
  },
  {
   "cell_type": "markdown",
   "metadata": {},
   "source": [
    "Now we are to the point of working out the actual pulse sequences for the time dependent Hamiltonian. \n",
    "\n",
    "Let's start by defining each component of the Hamiltonian."
   ]
  },
  {
   "cell_type": "code",
   "execution_count": 7,
   "metadata": {},
   "outputs": [],
   "source": [
    "Hq = delta_off * sm.dag() * sm  # the qubit only part of the Hamiltonian\n",
    "Hc = omega * (sm * a.dag() + sm.dag() * a) / 2  # the qubit/resonator coupling term\n",
    "Hd = delta_off * sm.dag() / 2  # half of the qubit drive term. the other half will be included later - we need to conjugate "
   ]
  },
  {
   "cell_type": "markdown",
   "metadata": {},
   "source": [
    "Next, we need to start from the end state, and work our way backwards, calculating what happens to the state after the backwards evolution from the Hamiltonian at each step. Let's pick as an example $|1 \\rangle + i |3\\rangle$, as in the text."
   ]
  },
  {
   "cell_type": "code",
   "execution_count": 8,
   "metadata": {},
   "outputs": [
    {
     "name": "stdout",
     "output_type": "stream",
     "text": [
      "Quantum object: dims = [[2, 10], [1, 1]], shape = (20, 1), type = ket\n",
      "Qobj data =\n",
      "[[0.+0.j]\n",
      " [0.+0.j]\n",
      " [0.+0.j]\n",
      " [0.+0.j]\n",
      " [0.+0.j]\n",
      " [0.+0.j]\n",
      " [0.+0.j]\n",
      " [0.+0.j]\n",
      " [0.+0.j]\n",
      " [0.+0.j]\n",
      " [0.+0.j]\n",
      " [1.+0.j]\n",
      " [0.+0.j]\n",
      " [0.+1.j]\n",
      " [0.+0.j]\n",
      " [0.+0.j]\n",
      " [0.+0.j]\n",
      " [0.+0.j]\n",
      " [0.+0.j]\n",
      " [0.+0.j]]\n"
     ]
    }
   ],
   "source": [
    "psif = tensor(basis(2, 1), basis(N, 1) + 1j * basis(N, 3))\n",
    "print(psif)"
   ]
  },
  {
   "cell_type": "markdown",
   "metadata": {},
   "source": [
    "To avoid screwing up indexing later, here's a function to access the coefficients of different states:"
   ]
  },
  {
   "cell_type": "code",
   "execution_count": 9,
   "metadata": {},
   "outputs": [],
   "source": [
    "def get_ind(psi, q, r):\n",
    "    \"\"\"Access the |q, r> coefficient of psi (where q=0 is the excited state).\"\"\"\n",
    "    return psi.full()[N * q + r, 0]"
   ]
  },
  {
   "cell_type": "markdown",
   "metadata": {},
   "source": [
    "Also worth doing linspace stuff in one spot:"
   ]
  },
  {
   "cell_type": "code",
   "execution_count": 10,
   "metadata": {},
   "outputs": [],
   "source": [
    "def time_axis(t):\n",
    "    \"\"\"Returns a time axis for times 0 to t.\"\"\"\n",
    "    return np.linspace(0, t, int(t / dt))"
   ]
  },
  {
   "cell_type": "markdown",
   "metadata": {},
   "source": [
    "Let's try implementing the first swap operation on this state:"
   ]
  },
  {
   "cell_type": "code",
   "execution_count": 11,
   "metadata": {},
   "outputs": [
    {
     "name": "stdout",
     "output_type": "stream",
     "text": [
      "0j\n",
      "1j\n",
      "1.813799364234218\n",
      "  (0, 0)\t-0.5569442602096372j\n",
      "  (2, 0)\t(0.7070698611261061+0j)\n",
      "  (11, 0)\t(0.4357353583380559+0j)\n"
     ]
    }
   ],
   "source": [
    "psi = psif\n",
    "n = 3\n",
    "c1 = get_ind(psi, 0, n - 1)  # |e, n-1> \n",
    "c2 = get_ind(psi, 1, n)  # |g, n>\n",
    "s = swap_time(n, c1, c2)\n",
    "print(c1)\n",
    "print(c2)\n",
    "print(s * omega)  # check we get the right value for the swap time; this should print 1.81\n",
    "times = time_axis(s)\n",
    "result = sesolve(Hc, psi, times, [])\n",
    "psi = result.states[-1]\n",
    "psi.tidyup(atol=1e-3)\n",
    "print(psi.data)\n",
    "psi0 = psi"
   ]
  },
  {
   "cell_type": "markdown",
   "metadata": {},
   "source": [
    "Note: think about using Qobj.tidyup\n",
    "\n",
    "This looks good though. Let's think about the qubit drive operation now. "
   ]
  },
  {
   "cell_type": "code",
   "execution_count": 12,
   "metadata": {
    "scrolled": true
   },
   "outputs": [
    {
     "name": "stdout",
     "output_type": "stream",
     "text": [
      "Drive amp: 3.14\n",
      "Drive phase: 0.00\n",
      "Integral:\n",
      "(3.141592653589793+0j)\n",
      "Psi data:\n",
      "  (0, 0)\t(0.05053481239903316+0.061021134468619155j)\n",
      "  (1, 0)\t(-0.27496764688902414-0.33229289199756734j)\n",
      "  (2, 0)\t(-0.07746952102216172+0.064156586821754j)\n",
      "  (10, 0)\t(-0.5512757858825512+0j)\n",
      "  (11, 0)\t(-0.06206005215811378+0j)\n",
      "  (12, 0)\t-0.6998734365615673j\n"
     ]
    }
   ],
   "source": [
    "psi = psi0\n",
    "n = 2\n",
    "c1 = get_ind(psi, 0, n)  # |e, n> \n",
    "c2 = get_ind(psi, 1, n)  # |g, n>\n",
    "driveamp = qubit_drive_amp(c1, c2)\n",
    "drivephase = qubit_drive_phase(c1, c2)\n",
    "print(\"Drive amp: %.2f\" % driveamp)\n",
    "print(\"Drive phase: %.2f\" % drivephase)\n",
    "print(\"Integral:\")\n",
    "print(driveamp * np.exp(1j * drivephase))\n",
    "times = time_axis(pulse_time)\n",
    "def omegaq(t, args):\n",
    "    return driveamp * np.exp(-1j * drivephase - 1j * t * delta_off \n",
    "                  - ((t - pulse_time / 2)**2) / (2 * pulse_sig ** 2)) / np.sqrt(2 * np.pi * pulse_sig**2)\n",
    "def omegaqdag(t, args):\n",
    "    return np.conj(omegaq(t, args))\n",
    "result = sesolve([Hq, [Hd.dag(), omegaqdag], [Hd, omegaq]], psi, times, [])\n",
    "psi = result.states[-1]\n",
    "psi.tidyup(atol=1e-3)\n",
    "print(\"Psi data:\")\n",
    "print(psi.data)"
   ]
  },
  {
   "cell_type": "code",
   "execution_count": 13,
   "metadata": {},
   "outputs": [
    {
     "data": {
      "image/png": "[encoded data removed]",
      "text/plain": [
       "<Figure size 432x288 with 1 Axes>"
      ]
     },
     "metadata": {
      "needs_background": "light"
     },
     "output_type": "display_data"
    }
   ],
   "source": [
    "plt.figure()\n",
    "plt.plot(times, np.real(omegaq(times, [])))\n",
    "plt.show()"
   ]
  },
  {
   "cell_type": "code",
   "execution_count": 14,
   "metadata": {},
   "outputs": [
    {
     "name": "stdout",
     "output_type": "stream",
     "text": [
      "-2.9091147972241487\n"
     ]
    }
   ],
   "source": [
    "print(delta_off)"
   ]
  },
  {
   "cell_type": "markdown",
   "metadata": {},
   "source": [
    "Great, now we ned to get the $|e, 1\\rangle$ component in phase with the $|g, 2 \\rangle$ component."
   ]
  },
  {
   "cell_type": "code",
   "execution_count": 15,
   "metadata": {},
   "outputs": [
    {
     "name": "stdout",
     "output_type": "stream",
     "text": [
      "0.0\n",
      "0.0\n",
      "-6.283185307179586\n"
     ]
    },
    {
     "ename": "IndexError",
     "evalue": "index 0 is out of bounds for axis 0 with size 0",
     "output_type": "error",
     "traceback": [
      "\u001b[0;31m---------------------------------------------------------------------------\u001b[0m",
      "\u001b[0;31mIndexError\u001b[0m                                Traceback (most recent call last)",
      "\u001b[0;32m<ipython-input-15-16c9e0efff82>\u001b[0m in \u001b[0;36m<module>\u001b[0;34m\u001b[0m\n\u001b[1;32m      6\u001b[0m \u001b[0mprint\u001b[0m\u001b[0;34m(\u001b[0m\u001b[0mrotatetime\u001b[0m \u001b[0;34m-\u001b[0m \u001b[0;36m2\u001b[0m \u001b[0;34m*\u001b[0m \u001b[0mnp\u001b[0m\u001b[0;34m.\u001b[0m\u001b[0mpi\u001b[0m\u001b[0;34m)\u001b[0m\u001b[0;34m\u001b[0m\u001b[0;34m\u001b[0m\u001b[0m\n\u001b[1;32m      7\u001b[0m \u001b[0mtimes\u001b[0m \u001b[0;34m=\u001b[0m \u001b[0mtime_axis\u001b[0m\u001b[0;34m(\u001b[0m\u001b[0mrotatetime\u001b[0m\u001b[0;34m)\u001b[0m\u001b[0;34m\u001b[0m\u001b[0;34m\u001b[0m\u001b[0m\n\u001b[0;32m----> 8\u001b[0;31m \u001b[0mresult\u001b[0m \u001b[0;34m=\u001b[0m \u001b[0msesolve\u001b[0m\u001b[0;34m(\u001b[0m\u001b[0mHq\u001b[0m\u001b[0;34m,\u001b[0m \u001b[0mpsi\u001b[0m\u001b[0;34m,\u001b[0m \u001b[0mtimes\u001b[0m\u001b[0;34m,\u001b[0m \u001b[0;34m[\u001b[0m\u001b[0;34m]\u001b[0m\u001b[0;34m)\u001b[0m\u001b[0;34m\u001b[0m\u001b[0;34m\u001b[0m\u001b[0m\n\u001b[0m\u001b[1;32m      9\u001b[0m \u001b[0mpsi\u001b[0m \u001b[0;34m=\u001b[0m \u001b[0mresult\u001b[0m\u001b[0;34m.\u001b[0m\u001b[0mstates\u001b[0m\u001b[0;34m[\u001b[0m\u001b[0;34m-\u001b[0m\u001b[0;36m1\u001b[0m\u001b[0;34m]\u001b[0m\u001b[0;34m\u001b[0m\u001b[0;34m\u001b[0m\u001b[0m\n\u001b[1;32m     10\u001b[0m \u001b[0mpsi\u001b[0m\u001b[0;34m.\u001b[0m\u001b[0mtidyup\u001b[0m\u001b[0;34m(\u001b[0m\u001b[0matol\u001b[0m\u001b[0;34m=\u001b[0m\u001b[0;36m1e-3\u001b[0m\u001b[0;34m)\u001b[0m\u001b[0;34m\u001b[0m\u001b[0;34m\u001b[0m\u001b[0m\n",
      "\u001b[0;32m/opt/anaconda3/envs/qutip-env/lib/python3.8/site-packages/qutip/sesolve.py\u001b[0m in \u001b[0;36msesolve\u001b[0;34m(H, psi0, tlist, e_ops, args, options, progress_bar, _safe_mode)\u001b[0m\n\u001b[1;32m    167\u001b[0m         \u001b[0mfunc\u001b[0m\u001b[0;34m(\u001b[0m\u001b[0;36m0.\u001b[0m\u001b[0;34m,\u001b[0m \u001b[0mv\u001b[0m\u001b[0;34m,\u001b[0m \u001b[0;34m*\u001b[0m\u001b[0mode_args\u001b[0m\u001b[0;34m)\u001b[0m \u001b[0;34m+\u001b[0m \u001b[0mv\u001b[0m\u001b[0;34m\u001b[0m\u001b[0;34m\u001b[0m\u001b[0m\n\u001b[1;32m    168\u001b[0m \u001b[0;34m\u001b[0m\u001b[0m\n\u001b[0;32m--> 169\u001b[0;31m     res = _generic_ode_solve(func, ode_args, psi0, tlist, e_ops, options,\n\u001b[0m\u001b[1;32m    170\u001b[0m                              progress_bar, dims=psi0.dims)\n\u001b[1;32m    171\u001b[0m     \u001b[0;32mif\u001b[0m \u001b[0me_ops_dict\u001b[0m\u001b[0;34m:\u001b[0m\u001b[0;34m\u001b[0m\u001b[0;34m\u001b[0m\u001b[0m\n",
      "\u001b[0;32m/opt/anaconda3/envs/qutip-env/lib/python3.8/site-packages/qutip/sesolve.py\u001b[0m in \u001b[0;36m_generic_ode_solve\u001b[0;34m(func, ode_args, psi0, tlist, e_ops, opt, progress_bar, dims)\u001b[0m\n\u001b[1;32m    297\u001b[0m     \u001b[0;32mif\u001b[0m \u001b[0mode_args\u001b[0m\u001b[0;34m:\u001b[0m\u001b[0;34m\u001b[0m\u001b[0;34m\u001b[0m\u001b[0m\n\u001b[1;32m    298\u001b[0m         \u001b[0mr\u001b[0m\u001b[0;34m.\u001b[0m\u001b[0mset_f_params\u001b[0m\u001b[0;34m(\u001b[0m\u001b[0;34m*\u001b[0m\u001b[0mode_args\u001b[0m\u001b[0;34m)\u001b[0m\u001b[0;34m\u001b[0m\u001b[0;34m\u001b[0m\u001b[0m\n\u001b[0;32m--> 299\u001b[0;31m     \u001b[0mr\u001b[0m\u001b[0;34m.\u001b[0m\u001b[0mset_initial_value\u001b[0m\u001b[0;34m(\u001b[0m\u001b[0minitial_vector\u001b[0m\u001b[0;34m,\u001b[0m \u001b[0mtlist\u001b[0m\u001b[0;34m[\u001b[0m\u001b[0;36m0\u001b[0m\u001b[0;34m]\u001b[0m\u001b[0;34m)\u001b[0m\u001b[0;34m\u001b[0m\u001b[0;34m\u001b[0m\u001b[0m\n\u001b[0m\u001b[1;32m    300\u001b[0m \u001b[0;34m\u001b[0m\u001b[0m\n\u001b[1;32m    301\u001b[0m     \u001b[0me_ops_data\u001b[0m \u001b[0;34m=\u001b[0m \u001b[0;34m[\u001b[0m\u001b[0;34m]\u001b[0m\u001b[0;34m\u001b[0m\u001b[0;34m\u001b[0m\u001b[0m\n",
      "\u001b[0;31mIndexError\u001b[0m: index 0 is out of bounds for axis 0 with size 0"
     ]
    }
   ],
   "source": [
    "psi = psi0\n",
    "n = 2\n",
    "c1 = get_ind(psi, 0, n - 1)  # |e, n-1> \n",
    "c2 = get_ind(psi, 1, n)  # |g, n>\n",
    "rotatetime = rotation_time(c1, c2)\n",
    "print(rotatetime - 2 * np.pi)\n",
    "times = time_axis(rotatetime)\n",
    "result = sesolve(Hq, psi, times, [])\n",
    "psi = result.states[-1]\n",
    "psi.tidyup(atol=1e-3)\n",
    "print(\"Psi data:\")\n",
    "print(psi.data)"
   ]
  },
  {
   "cell_type": "markdown",
   "metadata": {},
   "source": [
    "Notes: Try to connect this report to what we learned in the class"
   ]
  }
 ],
 "metadata": {
  "kernelspec": {
   "display_name": "Python 3",
   "language": "python",
   "name": "python3"
  },
  "language_info": {
   "codemirror_mode": {
    "name": "ipython",
    "version": 3
   },
   "file_extension": ".py",
   "mimetype": "text/x-python",
   "name": "python",
   "nbconvert_exporter": "python",
   "pygments_lexer": "ipython3",
   "version": "3.8.2"
  }
 },
 "nbformat": 4,
 "nbformat_minor": 4
}
